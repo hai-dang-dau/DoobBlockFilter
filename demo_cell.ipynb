{
 "cells": [
  {
   "cell_type": "markdown",
   "metadata": {},
   "source": [
    "# Setup cell model"
   ]
  },
  {
   "cell_type": "code",
   "execution_count": 1,
   "metadata": {},
   "outputs": [],
   "source": [
    "%load_ext autoreload\n",
    "%autoreload 2"
   ]
  },
  {
   "cell_type": "code",
   "execution_count": 2,
   "metadata": {},
   "outputs": [],
   "source": [
    "%reload_ext autoreload\n",
    "import torch\n",
    "import time\n",
    "import doobhtransform.core as doob\n",
    "from doobhtransform.utils import normal_logpdf\n",
    "from particlefilter.core import simulate_uncontrolled_SMC, simulate_controlled_SMC"
   ]
  },
  {
   "cell_type": "code",
   "execution_count": 3,
   "metadata": {},
   "outputs": [
    {
     "name": "stdout",
     "output_type": "stream",
     "text": [
      "Computing on cpu\n"
     ]
    }
   ],
   "source": [
    "import matplotlib.pyplot as plt\n",
    "plt.style.use(\"ggplot\")\n",
    "device = torch.device(\"cuda\" if torch.cuda.is_available() else \"cpu\")\n",
    "print(\"Computing on \" + str(device))"
   ]
  },
  {
   "cell_type": "code",
   "execution_count": 4,
   "metadata": {},
   "outputs": [],
   "source": [
    "# tuning parameters\n",
    "d = 2 # dimension of latent state\n",
    "std_obs = 1.0\n",
    "theta = {\n",
    "    \"alpha\": torch.tensor(1.0),\n",
    "    \"beta\": torch.tensor(1.0),\n",
    "    \"kappa\": torch.tensor(1.0),\n",
    "    \"xi\": torch.tensor(0.5),\n",
    "}\n",
    "M = 50  # number of time-discretization steps"
   ]
  },
  {
   "cell_type": "markdown",
   "metadata": {},
   "source": [
    "# Latent process"
   ]
  },
  {
   "cell_type": "code",
   "execution_count": 5,
   "metadata": {},
   "outputs": [],
   "source": [
    "# dict for objects relating to latent process\n",
    "state = {}\n",
    "\n",
    "# dimension of state\n",
    "state[\"dim\"] = d\n",
    "\n",
    "# drift of diffusion\n",
    "def b(theta, x):\n",
    "    P = torch.tensor(4.0)\n",
    "    out = torch.zeros(x.shape)\n",
    "    out[:, 0] = (\n",
    "        theta[\"alpha\"] * x[:, 0]**P / (theta[\"xi\"]**P + x[:, 0]**P)\n",
    "        + theta[\"beta\"] * theta[\"xi\"]**P / (theta[\"xi\"]**P + x[:, 1]**P)\n",
    "        - theta[\"kappa\"] * x[:, 0]\n",
    "    )\n",
    "    out[:, 1] = (\n",
    "        theta[\"alpha\"] * x[:, 1]**P / (theta[\"xi\"]**P + x[:, 1]**P)\n",
    "        + theta[\"beta\"] * theta[\"xi\"]**P / (theta[\"xi\"]**P + x[:, 0]**P)\n",
    "        - theta[\"kappa\"] * x[:, 1]\n",
    "    )\n",
    "    return out\n",
    "state[\"drift\"] = b\n",
    "\n",
    "# diffusion coefficient of diffusion\n",
    "sigma = torch.tensor(1.0, device=device)\n",
    "state[\"sigma\"] = sigma"
   ]
  },
  {
   "cell_type": "markdown",
   "metadata": {},
   "source": [
    "# Observation model"
   ]
  },
  {
   "cell_type": "code",
   "execution_count": 6,
   "metadata": {},
   "outputs": [],
   "source": [
    "# dict for objects relating to observations\n",
    "obs = {}\n",
    "\n",
    "# dimension of observation\n",
    "p = d\n",
    "obs[\"dim\"] = p\n",
    "\n",
    "# number of observations\n",
    "T = 10\n",
    "obs[\"num_obs\"] = T\n",
    "\n",
    "# observation time interval\n",
    "interval = 1.0\n",
    "obs[\"interval\"] = interval\n",
    "\n",
    "# observation parameters\n",
    "var_obs = torch.tensor(std_obs**2, device=device)  # variance of observation\n",
    "\n",
    "# log-observation density\n",
    "obs_log_density = lambda theta, x, y: normal_logpdf(\n",
    "    y, x, var_obs\n",
    ")  # terminal condition, returns size (N)\n",
    "obs[\"log_density\"] = obs_log_density"
   ]
  },
  {
   "cell_type": "markdown",
   "metadata": {},
   "source": [
    "# Simulate states and observations"
   ]
  },
  {
   "cell_type": "code",
   "execution_count": 7,
   "metadata": {},
   "outputs": [
    {
     "name": "stdout",
     "output_type": "stream",
     "text": [
      "{'x_mean': tensor([0.9842, 1.0120]), 'x_std': tensor([0.9370, 0.9480]), 'y_mean': tensor([0.9874, 1.0129]), 'y_std': tensor([1.3685, 1.3732])}\n"
     ]
    }
   ],
   "source": [
    "# simulate states and observations from model\n",
    "X0 = torch.ones(1, d)\n",
    "X = X0.clone()\n",
    "J = 2000\n",
    "max_index = J * M + 1\n",
    "store_states = torch.zeros(J * M + 1, d, device=device)\n",
    "store_states[0, :] = X\n",
    "store_obs = torch.zeros(J * M, d, device=device)\n",
    "stepsize = torch.tensor(T / M, device=device)\n",
    "for j in range(J):\n",
    "    for m in range(M):\n",
    "        euler = X + stepsize * b(theta, X)\n",
    "        W = torch.sqrt(stepsize) * torch.randn(X.shape, device=device)\n",
    "        X = euler + sigma * W\n",
    "        Y = X + torch.sqrt(var_obs) * torch.randn(1, p, device=device)\n",
    "        index = j * M + m + 1\n",
    "        store_states[index, :] = X\n",
    "        store_obs[index - 1, :] = Y\n",
    "\n",
    "# learning standardization means and standard deviations\n",
    "standardization = {\n",
    "    \"x_mean\": torch.mean(store_states, 0),\n",
    "    \"x_std\": torch.std(store_states, 0),\n",
    "    \"y_mean\": torch.mean(store_obs, 0),\n",
    "    \"y_std\": torch.std(store_obs, 0),\n",
    "}\n",
    "print(standardization)\n",
    "\n",
    "# simulate initial states\n",
    "rinit = lambda N: store_states[\n",
    "    torch.randint(0, max_index, size=(N,)), :\n",
    "]  # function to subsample states\n",
    "state[\"rinit\"] = rinit\n",
    "\n",
    "\n",
    "# simulate observations\n",
    "def observation(N):\n",
    "    X = rinit(N)  # (N, d)\n",
    "    Y = torch.zeros(N, T, p, device=device)\n",
    "    for t in range(T):\n",
    "        for m in range(M):\n",
    "            W = torch.sqrt(stepsize) * torch.randn(N, d, device=device)  # size (N, d)\n",
    "            X = X + stepsize * b(theta, X) + sigma * W\n",
    "        Y[:, t, :] = X + torch.sqrt(var_obs) * torch.randn(N, p, device=device)\n",
    "    return Y\n",
    "obs[\"robs\"] = observation"
   ]
  },
  {
   "cell_type": "markdown",
   "metadata": {},
   "source": [
    "# Train model"
   ]
  },
  {
   "cell_type": "code",
   "execution_count": 9,
   "metadata": {},
   "outputs": [
    {
     "name": "stderr",
     "output_type": "stream",
     "text": [
      "  0%|          | 1/1000 [00:00<07:48,  2.13it/s]"
     ]
    },
    {
     "name": "stdout",
     "output_type": "stream",
     "text": [
      "Optimization iteration: 1 Loss: 284.15948486328125\n"
     ]
    },
    {
     "name": "stderr",
     "output_type": "stream",
     "text": [
      " 10%|█         | 100/1000 [00:37<05:33,  2.70it/s]"
     ]
    },
    {
     "name": "stdout",
     "output_type": "stream",
     "text": [
      "Optimization iteration: 100 Loss: 70.62055969238281\n"
     ]
    },
    {
     "name": "stderr",
     "output_type": "stream",
     "text": [
      " 20%|██        | 200/1000 [01:15<05:04,  2.63it/s]"
     ]
    },
    {
     "name": "stdout",
     "output_type": "stream",
     "text": [
      "Optimization iteration: 200 Loss: 16.096813201904297\n"
     ]
    },
    {
     "name": "stderr",
     "output_type": "stream",
     "text": [
      " 30%|███       | 300/1000 [01:54<04:31,  2.58it/s]"
     ]
    },
    {
     "name": "stdout",
     "output_type": "stream",
     "text": [
      "Optimization iteration: 300 Loss: 12.360576629638672\n"
     ]
    },
    {
     "name": "stderr",
     "output_type": "stream",
     "text": [
      " 40%|████      | 400/1000 [02:33<04:01,  2.49it/s]"
     ]
    },
    {
     "name": "stdout",
     "output_type": "stream",
     "text": [
      "Optimization iteration: 400 Loss: 9.059097290039062\n"
     ]
    },
    {
     "name": "stderr",
     "output_type": "stream",
     "text": [
      " 50%|█████     | 500/1000 [03:13<03:21,  2.49it/s]"
     ]
    },
    {
     "name": "stdout",
     "output_type": "stream",
     "text": [
      "Optimization iteration: 500 Loss: 8.187411308288574\n"
     ]
    },
    {
     "name": "stderr",
     "output_type": "stream",
     "text": [
      " 60%|██████    | 600/1000 [03:53<02:37,  2.54it/s]"
     ]
    },
    {
     "name": "stdout",
     "output_type": "stream",
     "text": [
      "Optimization iteration: 600 Loss: 7.972987651824951\n"
     ]
    },
    {
     "name": "stderr",
     "output_type": "stream",
     "text": [
      " 70%|███████   | 700/1000 [04:32<01:57,  2.56it/s]"
     ]
    },
    {
     "name": "stdout",
     "output_type": "stream",
     "text": [
      "Optimization iteration: 700 Loss: 6.4676713943481445\n"
     ]
    },
    {
     "name": "stderr",
     "output_type": "stream",
     "text": [
      " 80%|████████  | 800/1000 [05:11<01:18,  2.55it/s]"
     ]
    },
    {
     "name": "stdout",
     "output_type": "stream",
     "text": [
      "Optimization iteration: 800 Loss: 6.513869762420654\n"
     ]
    },
    {
     "name": "stderr",
     "output_type": "stream",
     "text": [
      " 90%|█████████ | 900/1000 [05:50<00:39,  2.54it/s]"
     ]
    },
    {
     "name": "stdout",
     "output_type": "stream",
     "text": [
      "Optimization iteration: 900 Loss: 5.827389717102051\n"
     ]
    },
    {
     "name": "stderr",
     "output_type": "stream",
     "text": [
      "100%|██████████| 1000/1000 [06:28<00:00,  2.57it/s]"
     ]
    },
    {
     "name": "stdout",
     "output_type": "stream",
     "text": [
      "Optimization iteration: 1000 Loss: 4.968928813934326\n",
      "Training time (secs): 395.57185983657837\n"
     ]
    },
    {
     "name": "stderr",
     "output_type": "stream",
     "text": [
      "\n"
     ]
    }
   ],
   "source": [
    "# algorithm settings\n",
    "num_steps = M\n",
    "V_net_config = {\"layers\": [16], \"standardization\": standardization, \"full_obs\": True}\n",
    "Z_net_config = {\n",
    "    \"layers\": [d + 16],\n",
    "    \"standardization\": standardization,\n",
    "    \"full_obs\": True,\n",
    "}\n",
    "net_config = {\"V\": V_net_config, \"Z\": Z_net_config}\n",
    "model = doob.model(state, obs, num_steps, net_config, device)\n",
    "\n",
    "# optimization configuration\n",
    "optim_config = {\n",
    "    \"minibatch\": 100,\n",
    "    \"num_iterations\": 1000,\n",
    "    \"learning_rate\": 1e-2,\n",
    "    \"weight_decay\": 1e-2,\n",
    "    \"initial_required\": True,\n",
    "}\n",
    "\n",
    "# training\n",
    "time_start = time.time()\n",
    "model.train(theta, optim_config)\n",
    "time_end = time.time()\n",
    "time_elapsed = time_end - time_start\n",
    "print(\"Training time (secs): \" + str(time_elapsed))"
   ]
  },
  {
   "cell_type": "code",
   "execution_count": 78,
   "metadata": {},
   "outputs": [
    {
     "name": "stderr",
     "output_type": "stream",
     "text": [
      "  0%|          | 1/1000 [00:00<05:37,  2.96it/s]"
     ]
    },
    {
     "name": "stdout",
     "output_type": "stream",
     "text": [
      "Optimization iteration: 1 Loss: 11.082398414611816\n"
     ]
    },
    {
     "name": "stderr",
     "output_type": "stream",
     "text": [
      " 10%|█         | 100/1000 [00:34<05:05,  2.95it/s]"
     ]
    },
    {
     "name": "stdout",
     "output_type": "stream",
     "text": [
      "Optimization iteration: 100 Loss: 10.435173034667969\n"
     ]
    },
    {
     "name": "stderr",
     "output_type": "stream",
     "text": [
      " 20%|██        | 200/1000 [01:08<04:30,  2.95it/s]"
     ]
    },
    {
     "name": "stdout",
     "output_type": "stream",
     "text": [
      "Optimization iteration: 200 Loss: 10.69056510925293\n"
     ]
    },
    {
     "name": "stderr",
     "output_type": "stream",
     "text": [
      " 30%|███       | 300/1000 [01:42<03:55,  2.98it/s]"
     ]
    },
    {
     "name": "stdout",
     "output_type": "stream",
     "text": [
      "Optimization iteration: 300 Loss: 9.986132621765137\n"
     ]
    },
    {
     "name": "stderr",
     "output_type": "stream",
     "text": [
      " 40%|████      | 400/1000 [02:16<03:24,  2.94it/s]"
     ]
    },
    {
     "name": "stdout",
     "output_type": "stream",
     "text": [
      "Optimization iteration: 400 Loss: 9.795231819152832\n"
     ]
    },
    {
     "name": "stderr",
     "output_type": "stream",
     "text": [
      " 50%|█████     | 500/1000 [02:50<02:49,  2.96it/s]"
     ]
    },
    {
     "name": "stdout",
     "output_type": "stream",
     "text": [
      "Optimization iteration: 500 Loss: 10.2233304977417\n"
     ]
    },
    {
     "name": "stderr",
     "output_type": "stream",
     "text": [
      " 60%|██████    | 600/1000 [03:25<02:23,  2.78it/s]"
     ]
    },
    {
     "name": "stdout",
     "output_type": "stream",
     "text": [
      "Optimization iteration: 600 Loss: 10.401351928710938\n"
     ]
    },
    {
     "name": "stderr",
     "output_type": "stream",
     "text": [
      " 70%|███████   | 700/1000 [04:00<01:43,  2.89it/s]"
     ]
    },
    {
     "name": "stdout",
     "output_type": "stream",
     "text": [
      "Optimization iteration: 700 Loss: 9.655078887939453\n"
     ]
    },
    {
     "name": "stderr",
     "output_type": "stream",
     "text": [
      " 80%|████████  | 800/1000 [04:34<01:08,  2.90it/s]"
     ]
    },
    {
     "name": "stdout",
     "output_type": "stream",
     "text": [
      "Optimization iteration: 800 Loss: 9.120218276977539\n"
     ]
    },
    {
     "name": "stderr",
     "output_type": "stream",
     "text": [
      " 90%|█████████ | 900/1000 [05:08<00:33,  2.98it/s]"
     ]
    },
    {
     "name": "stdout",
     "output_type": "stream",
     "text": [
      "Optimization iteration: 900 Loss: 9.822768211364746\n"
     ]
    },
    {
     "name": "stderr",
     "output_type": "stream",
     "text": [
      "100%|██████████| 1000/1000 [05:42<00:00,  2.92it/s]"
     ]
    },
    {
     "name": "stdout",
     "output_type": "stream",
     "text": [
      "Optimization iteration: 1000 Loss: 9.751876831054688\n",
      "Training time (secs): 342.42083621025085\n"
     ]
    },
    {
     "name": "stderr",
     "output_type": "stream",
     "text": [
      "\n"
     ]
    }
   ],
   "source": [
    "# more training\n",
    "optim_config[\"initial_required\"] = False\n",
    "time_start = time.time()\n",
    "model.train(theta, optim_config)\n",
    "time_end = time.time()\n",
    "time_elapsed = time_end - time_start\n",
    "print(\"Training time (secs): \" + str(time_elapsed))"
   ]
  },
  {
   "cell_type": "markdown",
   "metadata": {},
   "source": [
    "# Run SMC"
   ]
  },
  {
   "cell_type": "code",
   "execution_count": 10,
   "metadata": {},
   "outputs": [],
   "source": [
    "N = 2**10"
   ]
  },
  {
   "cell_type": "code",
   "execution_count": 11,
   "metadata": {},
   "outputs": [],
   "source": [
    "Y = observation(1).squeeze()"
   ]
  },
  {
   "cell_type": "code",
   "execution_count": 13,
   "metadata": {},
   "outputs": [
    {
     "name": "stdout",
     "output_type": "stream",
     "text": [
      "Log-likelihood estimate: -33.354331970214844\n"
     ]
    }
   ],
   "source": [
    "_states, _ess, _log_norm_const, _log_ratio_norm_const = (\n",
    "    simulate_uncontrolled_SMC(model, theta, X0, Y, N, resample=True, full_path=True)\n",
    ")\n",
    "print(\"Log-likelihood estimate: \" + str(float(_log_ratio_norm_const)))"
   ]
  },
  {
   "cell_type": "code",
   "execution_count": 14,
   "metadata": {},
   "outputs": [
    {
     "name": "stdout",
     "output_type": "stream",
     "text": [
      "Log-likelihood estimate: -33.50495147705078\n"
     ]
    }
   ],
   "source": [
    "states, ess, log_norm_const, log_ratio_norm_const = simulate_controlled_SMC(\n",
    "    model, theta, X0, Y, N, resample=True, full_path=True\n",
    ")\n",
    "print(\"Log-likelihood estimate: \" + str(float(log_ratio_norm_const)))"
   ]
  },
  {
   "cell_type": "code",
   "execution_count": 15,
   "metadata": {},
   "outputs": [
    {
     "data": {
      "text/plain": [
       "<matplotlib.legend.Legend at 0x7f81602ace80>"
      ]
     },
     "execution_count": 15,
     "metadata": {},
     "output_type": "execute_result"
    },
    {
     "data": {
      "image/png": "[encoded data removed]",
      "text/plain": [
       "<Figure size 432x288 with 1 Axes>"
      ]
     },
     "metadata": {},
     "output_type": "display_data"
    }
   ],
   "source": [
    "plt.figure()\n",
    "plt.plot(_log_norm_const)\n",
    "plt.plot(log_norm_const)\n",
    "plt.ylabel(\"log-likelihood\")\n",
    "plt.legend([\"uncontrolled\", \"controlled\"])"
   ]
  },
  {
   "cell_type": "code",
   "execution_count": 18,
   "metadata": {},
   "outputs": [
    {
     "data": {
      "text/plain": [
       "<matplotlib.legend.Legend at 0x7f8190bc6bb0>"
      ]
     },
     "execution_count": 18,
     "metadata": {},
     "output_type": "execute_result"
    },
    {
     "data": {
      "image/png": "[encoded data removed]",
      "text/plain": [
       "<Figure size 432x288 with 1 Axes>"
      ]
     },
     "metadata": {},
     "output_type": "display_data"
    }
   ],
   "source": [
    "plt.figure()\n",
    "plt.plot(_ess * 100 / N)\n",
    "plt.plot(ess * 100 / N)\n",
    "plt.title(\"cell\")\n",
    "plt.ylabel(\"ESS%\")\n",
    "plt.legend([\"uncontrolled\", \"controlled\"])"
   ]
  },
  {
   "cell_type": "code",
   "execution_count": null,
   "metadata": {},
   "outputs": [
    {
     "data": {
      "text/plain": [
       "<matplotlib.legend.Legend at 0x7f96dc819130>"
      ]
     },
     "metadata": {},
     "output_type": "display_data"
    },
    {
     "data": {
      "image/png": "[encoded data removed]",
      "text/plain": [
       "<Figure size 432x288 with 1 Axes>"
      ]
     },
     "metadata": {},
     "output_type": "display_data"
    }
   ],
   "source": [
    "plt.figure()\n",
    "plt.plot(_ess * 100 / N)\n",
    "plt.plot(ess * 100 / N)\n",
    "plt.title(\"cell\")\n",
    "plt.ylabel(\"ESS%\")\n",
    "plt.legend([\"uncontrolled\", \"controlled\"])"
   ]
  },
  {
   "cell_type": "code",
   "execution_count": 86,
   "metadata": {},
   "outputs": [],
   "source": [
    "# # plot states and observations (for full_path = False)\n",
    "# times = torch.linspace(0.0, T * interval, T * M + 1, device=device)\n",
    "# plt.figure()\n",
    "# plt.plot(torch.arange(T + 1), X[:, 0], \"r-\")\n",
    "# plt.plot(torch.arange(1, T + 1), Y[:, 0], \"bx\")\n",
    "# plt.plot(times, torch.mean(states[:, :, 0], 0), \"k-\")\n",
    "# plt.plot(times, torch.mean(_states[:, :, 0], 0), 'c-')\n",
    "# # for n in range(N):\n",
    "#     # plt.plot(times, states[n, :, 0], 'k.', alpha = 0.01)\n",
    "# plt.xlabel(\"step\", fontsize=15)\n",
    "# plt.legend([\"state\", \"observation\", \"uncontrolled mean\", \"controlled mean\"], fontsize=15)\n",
    "# plt.show()"
   ]
  },
  {
   "cell_type": "code",
   "execution_count": null,
   "metadata": {},
   "outputs": [],
   "source": []
  }
 ],
 "metadata": {
  "kernelspec": {
   "display_name": "standard",
   "language": "python",
   "name": "python3"
  },
  "language_info": {
   "codemirror_mode": {
    "name": "ipython",
    "version": 3
   },
   "file_extension": ".py",
   "mimetype": "text/x-python",
   "name": "python",
   "nbconvert_exporter": "python",
   "pygments_lexer": "ipython3",
   "version": "3.9.7"
  }
 },
 "nbformat": 4,
 "nbformat_minor": 2
}
