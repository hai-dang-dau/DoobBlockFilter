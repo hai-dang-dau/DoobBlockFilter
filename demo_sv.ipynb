{
 "cells": [
  {
   "cell_type": "markdown",
   "metadata": {},
   "source": [
    "# Setup SV model"
   ]
  },
  {
   "cell_type": "code",
   "execution_count": 34,
   "metadata": {},
   "outputs": [
    {
     "name": "stdout",
     "output_type": "stream",
     "text": [
      "The autoreload extension is already loaded. To reload it, use:\n",
      "  %reload_ext autoreload\n"
     ]
    }
   ],
   "source": [
    "%load_ext autoreload\n",
    "%autoreload 2"
   ]
  },
  {
   "cell_type": "code",
   "execution_count": 35,
   "metadata": {},
   "outputs": [],
   "source": [
    "%reload_ext autoreload\n",
    "import torch\n",
    "import math\n",
    "import time\n",
    "import doobhtransform as doob\n",
    "from doobhtransform.utils import normal_logpdf\n",
    "from particlefilter.core import simulate_uncontrolled_SMC, simulate_controlled_SMC"
   ]
  },
  {
   "cell_type": "code",
   "execution_count": 36,
   "metadata": {},
   "outputs": [
    {
     "name": "stdout",
     "output_type": "stream",
     "text": [
      "Computing on cpu\n"
     ]
    }
   ],
   "source": [
    "import matplotlib.pyplot as plt\n",
    "plt.style.use(\"ggplot\")\n",
    "device = torch.device(\"cuda\" if torch.cuda.is_available() else \"cpu\")\n",
    "print(\"Computing on \" + str(device))"
   ]
  },
  {
   "cell_type": "code",
   "execution_count": 37,
   "metadata": {},
   "outputs": [],
   "source": [
    "# tuning parameters\n",
    "d = 1 # dimension of latent state\n",
    "std_obs = 1.0\n",
    "theta = {}"
   ]
  },
  {
   "cell_type": "markdown",
   "metadata": {},
   "source": [
    "# Latent process"
   ]
  },
  {
   "cell_type": "code",
   "execution_count": 38,
   "metadata": {},
   "outputs": [],
   "source": [
    "# dict for objects relating to latent process\n",
    "state = {}\n",
    "\n",
    "# dimension of state\n",
    "state[\"dim\"] = d\n",
    "\n",
    "# parameters of normal transition\n",
    "alpha = torch.tensor(0.9, device=device)\n",
    "beta = torch.tensor(0.0, device=device) \n",
    "xi_sq = torch.tensor(1.0, device=device)\n",
    "xi = torch.sqrt(xi_sq)\n",
    "\n",
    "# Ornstein-Uhlenbeck diffusion parameters\n",
    "eta1 = -beta * torch.log(alpha) / (1.0 - alpha)\n",
    "eta2 = -torch.log(alpha)\n",
    "eta3 = torch.sqrt(-2.0 * torch.log(alpha) * xi_sq / (1.0 - alpha**2))\n",
    "\n",
    "# drift and diffusivity of diffusion\n",
    "b = lambda theta, x: eta1 - eta2 * x \n",
    "state[\"drift\"] = b\n",
    "\n",
    "# diffusion coefficient of diffusion\n",
    "sigma = eta3\n",
    "state[\"sigma\"] = sigma\n",
    "\n",
    "# simulate initial states (from stationary distribution)\n",
    "rinit = lambda N: (eta1 / eta2) + (eta3 / torch.sqrt(2.0 * eta2)) * torch.randn(N, d, device=device)\n",
    "# rinit = lambda N: torch.zeros(N, d)\n",
    "state[\"rinit\"] = rinit"
   ]
  },
  {
   "cell_type": "markdown",
   "metadata": {},
   "source": [
    "# Observation model"
   ]
  },
  {
   "cell_type": "code",
   "execution_count": 39,
   "metadata": {},
   "outputs": [],
   "source": [
    "# dict for objects relating to observations\n",
    "obs = {}\n",
    "\n",
    "# dimension of observation\n",
    "p = d\n",
    "obs[\"dim\"] = p\n",
    "\n",
    "# number of observations\n",
    "T = 20\n",
    "obs[\"num_obs\"] = T\n",
    "\n",
    "# observation time interval\n",
    "interval = 1.0\n",
    "obs[\"interval\"] = interval\n",
    "\n",
    "# observation parameters\n",
    "var_obs = torch.tensor(std_obs**2, device=device)  # variance of observation\n",
    "\n",
    "# log-observation density\n",
    "obs_log_density = lambda theta, x, y: normal_logpdf(\n",
    "    y, torch.zeros(1, p), var_obs * torch.exp(x)\n",
    ")  # terminal condition, returns size (N)\n",
    "obs[\"log_density\"] = obs_log_density\n",
    "\n",
    "\n",
    "# simulate observations\n",
    "def observation(N):\n",
    "    X = rinit(N)  # (N, d)\n",
    "    Y = torch.zeros(N, T, p, device=device)\n",
    "    for t in range(T):\n",
    "        X = alpha * X + beta + xi * torch.randn(1, d, device=device)\n",
    "        Y[:, t, :] = std_obs * torch.exp(0.5 * X) * torch.randn(1, p, device=device)        \n",
    "    return Y\n",
    "# observation = lambda N: rinit(N * T).reshape((N, T, d)) + std_obs * torch.randn(N, T, p, device=device)\n",
    "obs[\"robs\"] = observation\n",
    "\n",
    "# # simulate observations\n",
    "# def observation(N):\n",
    "#     x = rinit(N * T).reshape((N, T, d))\n",
    "#     y = std_obs * torch.exp(0.5 * x) * torch.randn(N, T, p, device=device)\n",
    "#     return y\n",
    "# obs[\"robs\"] = observation"
   ]
  },
  {
   "cell_type": "markdown",
   "metadata": {},
   "source": [
    "# Simulate states and observations"
   ]
  },
  {
   "cell_type": "code",
   "execution_count": 40,
   "metadata": {},
   "outputs": [
    {
     "data": {
      "image/png": "[encoded data removed]",
      "text/plain": [
       "<Figure size 432x288 with 1 Axes>"
      ]
     },
     "metadata": {},
     "output_type": "display_data"
    }
   ],
   "source": [
    "# simulate states and observations\n",
    "X = torch.zeros(T + 1, d, device=device)\n",
    "Y = torch.zeros(T, p, device=device)\n",
    "for t in range(T):\n",
    "    X[t + 1, :] = alpha * X[t, :] + beta + xi * torch.randn(1, d, device=device)\n",
    "    Y[t, :] = std_obs * torch.exp(0.5 * X[t + 1, :]) * torch.randn(1, p, device=device)\n",
    "X0 = X[0, ]\n",
    "obs[\"sequence\"] = Y\n",
    "\n",
    "# # simulate observations\n",
    "observation = lambda N: Y.repeat((N, 1, 1))\n",
    "obs[\"robs\"] = observation\n",
    "\n",
    "# plot states and observations\n",
    "plt.figure()\n",
    "plt.plot(torch.arange(T + 1), torch.exp(X[:, 0]), \"-x\")\n",
    "plt.plot(torch.arange(1, T + 1), Y[:, 0].cpu(), \"-x\")\n",
    "plt.xlabel(\"step\", fontsize=15)\n",
    "plt.legend([\"state\", \"observation\"], fontsize=15)\n",
    "plt.show()"
   ]
  },
  {
   "cell_type": "markdown",
   "metadata": {},
   "source": [
    "# Train model"
   ]
  },
  {
   "cell_type": "code",
   "execution_count": 41,
   "metadata": {},
   "outputs": [
    {
     "name": "stderr",
     "output_type": "stream",
     "text": [
      "  0%|          | 2/1000 [00:00<02:29,  6.69it/s]"
     ]
    },
    {
     "name": "stdout",
     "output_type": "stream",
     "text": [
      "Optimization iteration: 1 Loss: 6873.81298828125\n"
     ]
    },
    {
     "name": "stderr",
     "output_type": "stream",
     "text": [
      " 10%|█         | 101/1000 [00:16<02:28,  6.06it/s]"
     ]
    },
    {
     "name": "stdout",
     "output_type": "stream",
     "text": [
      "Optimization iteration: 100 Loss: 163.13536071777344\n"
     ]
    },
    {
     "name": "stderr",
     "output_type": "stream",
     "text": [
      " 20%|██        | 201/1000 [00:32<02:08,  6.20it/s]"
     ]
    },
    {
     "name": "stdout",
     "output_type": "stream",
     "text": [
      "Optimization iteration: 200 Loss: 176.62998962402344\n"
     ]
    },
    {
     "name": "stderr",
     "output_type": "stream",
     "text": [
      " 30%|███       | 301/1000 [00:47<01:53,  6.17it/s]"
     ]
    },
    {
     "name": "stdout",
     "output_type": "stream",
     "text": [
      "Optimization iteration: 300 Loss: 61.63056564331055\n"
     ]
    },
    {
     "name": "stderr",
     "output_type": "stream",
     "text": [
      " 40%|████      | 401/1000 [01:02<01:27,  6.87it/s]"
     ]
    },
    {
     "name": "stdout",
     "output_type": "stream",
     "text": [
      "Optimization iteration: 400 Loss: 78.33003234863281\n"
     ]
    },
    {
     "name": "stderr",
     "output_type": "stream",
     "text": [
      " 50%|█████     | 501/1000 [01:17<01:14,  6.73it/s]"
     ]
    },
    {
     "name": "stdout",
     "output_type": "stream",
     "text": [
      "Optimization iteration: 500 Loss: 200.1437225341797\n"
     ]
    },
    {
     "name": "stderr",
     "output_type": "stream",
     "text": [
      " 60%|██████    | 601/1000 [01:33<01:01,  6.50it/s]"
     ]
    },
    {
     "name": "stdout",
     "output_type": "stream",
     "text": [
      "Optimization iteration: 600 Loss: 176.18060302734375\n"
     ]
    },
    {
     "name": "stderr",
     "output_type": "stream",
     "text": [
      " 70%|███████   | 701/1000 [01:47<00:44,  6.77it/s]"
     ]
    },
    {
     "name": "stdout",
     "output_type": "stream",
     "text": [
      "Optimization iteration: 700 Loss: 130.44863891601562\n"
     ]
    },
    {
     "name": "stderr",
     "output_type": "stream",
     "text": [
      " 80%|████████  | 801/1000 [02:03<00:29,  6.70it/s]"
     ]
    },
    {
     "name": "stdout",
     "output_type": "stream",
     "text": [
      "Optimization iteration: 800 Loss: 61.136173248291016\n"
     ]
    },
    {
     "name": "stderr",
     "output_type": "stream",
     "text": [
      " 90%|█████████ | 901/1000 [02:18<00:14,  6.76it/s]"
     ]
    },
    {
     "name": "stdout",
     "output_type": "stream",
     "text": [
      "Optimization iteration: 900 Loss: 122.19941711425781\n"
     ]
    },
    {
     "name": "stderr",
     "output_type": "stream",
     "text": [
      "100%|██████████| 1000/1000 [02:33<00:00,  6.52it/s]"
     ]
    },
    {
     "name": "stdout",
     "output_type": "stream",
     "text": [
      "Optimization iteration: 1000 Loss: 124.3586654663086\n",
      "Training time (secs): 153.3244972229004\n"
     ]
    },
    {
     "name": "stderr",
     "output_type": "stream",
     "text": [
      "\n"
     ]
    }
   ],
   "source": [
    "# algorithm settings\n",
    "M = 20\n",
    "num_steps = M\n",
    "V_net_config = {\"layers\": [16]}\n",
    "Z_net_config = {\"layers\": [16]}\n",
    "net_config = {\"V\": V_net_config, \"Z\": Z_net_config}\n",
    "model = doob.core.model(state, obs, num_steps, net_config, device)\n",
    "\n",
    "# optimization configuration\n",
    "optim_config = {\n",
    "    \"minibatch\": 100,\n",
    "    \"num_iterations\": 1000,\n",
    "    \"learning_rate\": 1e-2,\n",
    "    \"weight_decay\": 0.0,\n",
    "    \"initial_required\": True,\n",
    "}\n",
    "\n",
    "# training\n",
    "time_start = time.time()\n",
    "model.train(theta, optim_config)\n",
    "time_end = time.time()\n",
    "time_elapsed = time_end - time_start\n",
    "print(\"Training time (secs): \" + str(time_elapsed))"
   ]
  },
  {
   "cell_type": "code",
   "execution_count": 27,
   "metadata": {},
   "outputs": [
    {
     "name": "stderr",
     "output_type": "stream",
     "text": [
      "  0%|          | 2/1000 [00:00<02:32,  6.55it/s]"
     ]
    },
    {
     "name": "stdout",
     "output_type": "stream",
     "text": [
      "Optimization iteration: 1 Loss: 80.41923522949219\n"
     ]
    },
    {
     "name": "stderr",
     "output_type": "stream",
     "text": [
      " 10%|█         | 101/1000 [00:15<02:32,  5.91it/s]"
     ]
    },
    {
     "name": "stdout",
     "output_type": "stream",
     "text": [
      "Optimization iteration: 100 Loss: 51.264835357666016\n"
     ]
    },
    {
     "name": "stderr",
     "output_type": "stream",
     "text": [
      " 20%|██        | 201/1000 [00:31<02:05,  6.36it/s]"
     ]
    },
    {
     "name": "stdout",
     "output_type": "stream",
     "text": [
      "Optimization iteration: 200 Loss: 74.99200439453125\n"
     ]
    },
    {
     "name": "stderr",
     "output_type": "stream",
     "text": [
      " 30%|███       | 301/1000 [00:47<01:48,  6.47it/s]"
     ]
    },
    {
     "name": "stdout",
     "output_type": "stream",
     "text": [
      "Optimization iteration: 300 Loss: 70.92396545410156\n"
     ]
    },
    {
     "name": "stderr",
     "output_type": "stream",
     "text": [
      " 40%|████      | 401/1000 [01:02<01:31,  6.55it/s]"
     ]
    },
    {
     "name": "stdout",
     "output_type": "stream",
     "text": [
      "Optimization iteration: 400 Loss: 43.212425231933594\n"
     ]
    },
    {
     "name": "stderr",
     "output_type": "stream",
     "text": [
      " 50%|█████     | 501/1000 [01:17<01:18,  6.35it/s]"
     ]
    },
    {
     "name": "stdout",
     "output_type": "stream",
     "text": [
      "Optimization iteration: 500 Loss: 1116.761474609375\n"
     ]
    },
    {
     "name": "stderr",
     "output_type": "stream",
     "text": [
      " 60%|██████    | 601/1000 [01:32<00:58,  6.86it/s]"
     ]
    },
    {
     "name": "stdout",
     "output_type": "stream",
     "text": [
      "Optimization iteration: 600 Loss: 247.10137939453125\n"
     ]
    },
    {
     "name": "stderr",
     "output_type": "stream",
     "text": [
      " 70%|███████   | 701/1000 [01:48<00:45,  6.57it/s]"
     ]
    },
    {
     "name": "stdout",
     "output_type": "stream",
     "text": [
      "Optimization iteration: 700 Loss: 259.9089660644531\n"
     ]
    },
    {
     "name": "stderr",
     "output_type": "stream",
     "text": [
      " 80%|████████  | 801/1000 [02:03<00:28,  6.90it/s]"
     ]
    },
    {
     "name": "stdout",
     "output_type": "stream",
     "text": [
      "Optimization iteration: 800 Loss: 143.07785034179688\n"
     ]
    },
    {
     "name": "stderr",
     "output_type": "stream",
     "text": [
      " 90%|█████████ | 901/1000 [02:17<00:14,  6.88it/s]"
     ]
    },
    {
     "name": "stdout",
     "output_type": "stream",
     "text": [
      "Optimization iteration: 900 Loss: 483.57501220703125\n"
     ]
    },
    {
     "name": "stderr",
     "output_type": "stream",
     "text": [
      "100%|██████████| 1000/1000 [02:32<00:00,  6.56it/s]"
     ]
    },
    {
     "name": "stdout",
     "output_type": "stream",
     "text": [
      "Optimization iteration: 1000 Loss: 1627.6573486328125\n",
      "Training time (secs): 152.55578064918518\n"
     ]
    },
    {
     "name": "stderr",
     "output_type": "stream",
     "text": [
      "\n"
     ]
    }
   ],
   "source": [
    "# more training\n",
    "optim_config[\"initial_required\"] = False\n",
    "time_start = time.time()\n",
    "model.train(theta, optim_config)\n",
    "time_end = time.time()\n",
    "time_elapsed = time_end - time_start\n",
    "print(\"Training time (secs): \" + str(time_elapsed))"
   ]
  },
  {
   "cell_type": "markdown",
   "metadata": {},
   "source": [
    "# Run SMC"
   ]
  },
  {
   "cell_type": "code",
   "execution_count": 44,
   "metadata": {},
   "outputs": [],
   "source": [
    "N = 2**10"
   ]
  },
  {
   "cell_type": "code",
   "execution_count": 45,
   "metadata": {},
   "outputs": [
    {
     "name": "stdout",
     "output_type": "stream",
     "text": [
      "Log-likelihood estimate: -14.268938064575195\n"
     ]
    }
   ],
   "source": [
    "_states, _ess, _log_norm_const, _log_ratio_norm_const = (\n",
    "    simulate_uncontrolled_SMC(model, theta, X0, Y, N, resample=True, full_path=True)\n",
    ")\n",
    "print(\"Log-likelihood estimate: \" + str(float(_log_ratio_norm_const)))"
   ]
  },
  {
   "cell_type": "code",
   "execution_count": 46,
   "metadata": {},
   "outputs": [
    {
     "name": "stdout",
     "output_type": "stream",
     "text": [
      "Log-likelihood estimate: -13.994937896728516\n"
     ]
    }
   ],
   "source": [
    "states, ess, log_norm_const, log_ratio_norm_const = simulate_controlled_SMC(\n",
    "    model, theta, X0, Y, N, resample=True, full_path=True\n",
    ")\n",
    "print(\"Log-likelihood estimate: \" + str(float(log_ratio_norm_const)))"
   ]
  },
  {
   "cell_type": "code",
   "execution_count": 47,
   "metadata": {},
   "outputs": [
    {
     "data": {
      "text/plain": [
       "<matplotlib.legend.Legend at 0x7f8618024ac0>"
      ]
     },
     "execution_count": 47,
     "metadata": {},
     "output_type": "execute_result"
    },
    {
     "data": {
      "image/png": "[encoded data removed]",
      "text/plain": [
       "<Figure size 432x288 with 1 Axes>"
      ]
     },
     "metadata": {},
     "output_type": "display_data"
    }
   ],
   "source": [
    "plt.figure()\n",
    "plt.plot(_log_norm_const)\n",
    "plt.plot(log_norm_const)\n",
    "plt.ylabel(\"log-likelihood\")\n",
    "plt.legend([\"uncontrolled\", \"controlled\"])"
   ]
  },
  {
   "cell_type": "code",
   "execution_count": 50,
   "metadata": {},
   "outputs": [
    {
     "data": {
      "text/plain": [
       "<matplotlib.legend.Legend at 0x7f866e646d60>"
      ]
     },
     "execution_count": 50,
     "metadata": {},
     "output_type": "execute_result"
    },
    {
     "data": {
      "image/png": "[encoded data removed]",
      "text/plain": [
       "<Figure size 432x288 with 1 Axes>"
      ]
     },
     "metadata": {},
     "output_type": "display_data"
    }
   ],
   "source": [
    "plt.figure()\n",
    "plt.plot(_ess * 100 / N)\n",
    "plt.plot(ess * 100 / N)\n",
    "plt.ylabel(\"ESS%\")\n",
    "plt.legend([\"uncontrolled\", \"controlled\"])"
   ]
  },
  {
   "cell_type": "code",
   "execution_count": 49,
   "metadata": {},
   "outputs": [
    {
     "data": {
      "image/png": "[encoded data removed]",
      "text/plain": [
       "<Figure size 432x288 with 1 Axes>"
      ]
     },
     "metadata": {},
     "output_type": "display_data"
    }
   ],
   "source": [
    "# plot states and observations (for full_path = False)\n",
    "times = torch.linspace(0.0, T * interval, T * M + 1, device=device)\n",
    "plt.figure()\n",
    "plt.plot(torch.arange(T + 1), X[:, 0], \"r-\")\n",
    "plt.plot(torch.arange(1, T + 1), Y[:, 0], \"bx\")\n",
    "plt.plot(times, torch.mean(states[:, :, 0], 0), \"k-\")\n",
    "plt.plot(times, torch.mean(_states[:, :, 0], 0), \"c-\")\n",
    "# for n in range(N):\n",
    "# plt.plot(times, states[n, :, 0], 'k.', alpha = 0.01)\n",
    "plt.xlabel(\"step\", fontsize=15)\n",
    "plt.legend(\n",
    "    [\"state\", \"observation\", \"uncontrolled mean\", \"controlled mean\"], fontsize=15\n",
    ")\n",
    "plt.show()"
   ]
  },
  {
   "cell_type": "code",
   "execution_count": null,
   "metadata": {},
   "outputs": [],
   "source": []
  }
 ],
 "metadata": {
  "kernelspec": {
   "display_name": "standard",
   "language": "python",
   "name": "python3"
  },
  "language_info": {
   "codemirror_mode": {
    "name": "ipython",
    "version": 3
   },
   "file_extension": ".py",
   "mimetype": "text/x-python",
   "name": "python",
   "nbconvert_exporter": "python",
   "pygments_lexer": "ipython3",
   "version": "3.9.7"
  }
 },
 "nbformat": 4,
 "nbformat_minor": 2
}
