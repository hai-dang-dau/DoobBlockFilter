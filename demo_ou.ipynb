{
 "cells": [
  {
   "cell_type": "markdown",
   "metadata": {},
   "source": [
    "# Setup OU model"
   ]
  },
  {
   "cell_type": "code",
   "execution_count": 2,
   "metadata": {},
   "outputs": [],
   "source": [
    "%load_ext autoreload\n",
    "%autoreload 2"
   ]
  },
  {
   "cell_type": "code",
   "execution_count": 3,
   "metadata": {},
   "outputs": [],
   "source": [
    "%reload_ext autoreload\n",
    "import torch\n",
    "import time\n",
    "import doobhtransform.core as doob\n",
    "from doobhtransform.utils import normal_logpdf\n",
    "from particlefilter.core import simulate_uncontrolled_SMC, simulate_controlled_SMC"
   ]
  },
  {
   "cell_type": "code",
   "execution_count": 4,
   "metadata": {},
   "outputs": [
    {
     "name": "stdout",
     "output_type": "stream",
     "text": [
      "Computing on cpu\n"
     ]
    }
   ],
   "source": [
    "import matplotlib.pyplot as plt\n",
    "plt.style.use(\"ggplot\")\n",
    "device = torch.device(\"cuda\" if torch.cuda.is_available() else \"cpu\")\n",
    "print(\"Computing on \" + str(device))"
   ]
  },
  {
   "cell_type": "code",
   "execution_count": 74,
   "metadata": {},
   "outputs": [],
   "source": [
    "# tuning parameters\n",
    "d = 2 # dimension of latent state\n",
    "std_obs = 0.5\n",
    "theta = {}\n"
   ]
  },
  {
   "cell_type": "markdown",
   "metadata": {},
   "source": [
    "# Latent process"
   ]
  },
  {
   "cell_type": "code",
   "execution_count": 75,
   "metadata": {},
   "outputs": [],
   "source": [
    "# dict for objects relating to latent process\n",
    "state = {}\n",
    "\n",
    "# dimension of state\n",
    "state[\"dim\"] = d\n",
    "\n",
    "# drift of diffusion\n",
    "beta = torch.tensor(1.0, device = device) \n",
    "b = lambda theta, x: - beta * x \n",
    "state[\"drift\"] = b\n",
    "\n",
    "# diffusion coefficient of diffusion\n",
    "sigma = torch.tensor(1.0, device=device)\n",
    "state[\"sigma\"] = sigma\n",
    "\n",
    "# simulate initial states (from stationary distribution)\n",
    "rinit = lambda N: (sigma / torch.sqrt(2.0 * beta)) * torch.randn(N, d, device=device)\n",
    "state[\"rinit\"] = rinit"
   ]
  },
  {
   "cell_type": "markdown",
   "metadata": {},
   "source": [
    "# Observation model"
   ]
  },
  {
   "cell_type": "code",
   "execution_count": 103,
   "metadata": {},
   "outputs": [],
   "source": [
    "# dict for objects relating to observations\n",
    "obs = {}\n",
    "\n",
    "# dimension of observation\n",
    "p = d\n",
    "obs[\"dim\"] = p\n",
    "\n",
    "# number of observations\n",
    "T = 10\n",
    "obs[\"num_obs\"] = T\n",
    "\n",
    "# observation time interval\n",
    "interval = 1.0\n",
    "obs[\"interval\"] = interval\n",
    "\n",
    "# observation parameters\n",
    "var_obs = torch.tensor(std_obs**2, device=device)  # variance of observation\n",
    "\n",
    "# log-observation density\n",
    "obs_log_density = lambda theta, x, y: normal_logpdf(\n",
    "    y, x, var_obs\n",
    ")  # terminal condition, returns size (N)\n",
    "obs[\"log_density\"] = obs_log_density\n",
    "\n",
    "# simulate observations\n",
    "def observation(N):\n",
    "    X = rinit(N) # (N, d)\n",
    "    Y = torch.zeros(N, T, p, device=device)\n",
    "    for t in range(T):\n",
    "        X = X * torch.exp(-beta * interval) + torch.sqrt(\n",
    "            (1.0 - torch.exp(-2.0 * beta * interval)) / (2.0 * beta)\n",
    "        ) * torch.randn(1, d, device=device)\n",
    "        Y[:, t, :] = X + std_obs * torch.randn(1, p, device=device)\n",
    "    return Y\n",
    "# observation = lambda N: rinit(N * T).reshape((N, T, d)) + std_obs * torch.randn(N, T, p, device=device)\n",
    "obs[\"robs\"] = observation"
   ]
  },
  {
   "cell_type": "markdown",
   "metadata": {},
   "source": [
    "# Simulate states and observations"
   ]
  },
  {
   "cell_type": "code",
   "execution_count": 104,
   "metadata": {},
   "outputs": [
    {
     "data": {
      "image/png": "[encoded data removed]",
      "text/plain": [
       "<Figure size 432x288 with 1 Axes>"
      ]
     },
     "metadata": {},
     "output_type": "display_data"
    }
   ],
   "source": [
    "# simulate states and observations\n",
    "X = torch.zeros(T + 1, d, device=device)\n",
    "Y = torch.zeros(T, p, device=device)\n",
    "for t in range(T):\n",
    "    X[t + 1, :] = X[t, :] * torch.exp(- beta * interval) + torch.sqrt(\n",
    "        (1.0 - torch.exp(-2.0 * beta * interval)) / (2.0 * beta)\n",
    "    ) * torch.randn(1, d, device=device)\n",
    "    Y[t, :] =  X[t + 1, :] + std_obs * torch.randn(1, p, device=device)\n",
    "X0 = X[0, ]\n",
    "obs[\"sequence\"] = Y\n",
    "\n",
    "# plot states and observations\n",
    "plt.figure()\n",
    "plt.plot(torch.arange(T + 1), X[:, 0].cpu(), \"r-x\")\n",
    "plt.plot(torch.arange(1, T + 1), Y[:, 0].cpu(), \"bx\")\n",
    "plt.xlabel(\"step\", fontsize=15)\n",
    "plt.legend([\"state\", \"observation\"], fontsize=15)\n",
    "plt.show()"
   ]
  },
  {
   "cell_type": "markdown",
   "metadata": {},
   "source": [
    "# Train model"
   ]
  },
  {
   "cell_type": "code",
   "execution_count": 105,
   "metadata": {},
   "outputs": [
    {
     "name": "stderr",
     "output_type": "stream",
     "text": [
      "  0%|          | 2/1000 [00:00<01:19, 12.55it/s]"
     ]
    },
    {
     "name": "stdout",
     "output_type": "stream",
     "text": [
      "Optimization iteration: 1 Loss: 235.4840087890625\n"
     ]
    },
    {
     "name": "stderr",
     "output_type": "stream",
     "text": [
      " 10%|█         | 102/1000 [00:08<01:11, 12.49it/s]"
     ]
    },
    {
     "name": "stdout",
     "output_type": "stream",
     "text": [
      "Optimization iteration: 100 Loss: 110.80514526367188\n"
     ]
    },
    {
     "name": "stderr",
     "output_type": "stream",
     "text": [
      " 20%|██        | 202/1000 [00:16<01:03, 12.60it/s]"
     ]
    },
    {
     "name": "stdout",
     "output_type": "stream",
     "text": [
      "Optimization iteration: 200 Loss: 96.01484680175781\n"
     ]
    },
    {
     "name": "stderr",
     "output_type": "stream",
     "text": [
      " 30%|███       | 302/1000 [00:24<00:57, 12.16it/s]"
     ]
    },
    {
     "name": "stdout",
     "output_type": "stream",
     "text": [
      "Optimization iteration: 300 Loss: 71.58414459228516\n"
     ]
    },
    {
     "name": "stderr",
     "output_type": "stream",
     "text": [
      " 40%|████      | 402/1000 [00:32<00:47, 12.71it/s]"
     ]
    },
    {
     "name": "stdout",
     "output_type": "stream",
     "text": [
      "Optimization iteration: 400 Loss: 21.04957389831543\n"
     ]
    },
    {
     "name": "stderr",
     "output_type": "stream",
     "text": [
      " 50%|█████     | 502/1000 [00:39<00:38, 12.95it/s]"
     ]
    },
    {
     "name": "stdout",
     "output_type": "stream",
     "text": [
      "Optimization iteration: 500 Loss: 29.96207046508789\n"
     ]
    },
    {
     "name": "stderr",
     "output_type": "stream",
     "text": [
      " 60%|██████    | 602/1000 [00:47<00:31, 12.55it/s]"
     ]
    },
    {
     "name": "stdout",
     "output_type": "stream",
     "text": [
      "Optimization iteration: 600 Loss: 12.072068214416504\n"
     ]
    },
    {
     "name": "stderr",
     "output_type": "stream",
     "text": [
      " 70%|███████   | 702/1000 [00:55<00:22, 13.11it/s]"
     ]
    },
    {
     "name": "stdout",
     "output_type": "stream",
     "text": [
      "Optimization iteration: 700 Loss: 9.451581954956055\n"
     ]
    },
    {
     "name": "stderr",
     "output_type": "stream",
     "text": [
      " 80%|████████  | 802/1000 [01:03<00:16, 12.21it/s]"
     ]
    },
    {
     "name": "stdout",
     "output_type": "stream",
     "text": [
      "Optimization iteration: 800 Loss: 7.920137882232666\n"
     ]
    },
    {
     "name": "stderr",
     "output_type": "stream",
     "text": [
      " 90%|█████████ | 902/1000 [01:11<00:07, 12.48it/s]"
     ]
    },
    {
     "name": "stdout",
     "output_type": "stream",
     "text": [
      "Optimization iteration: 900 Loss: 9.019782066345215\n"
     ]
    },
    {
     "name": "stderr",
     "output_type": "stream",
     "text": [
      "100%|██████████| 1000/1000 [01:19<00:00, 12.64it/s]"
     ]
    },
    {
     "name": "stdout",
     "output_type": "stream",
     "text": [
      "Optimization iteration: 1000 Loss: 8.397955894470215\n",
      "Training time (secs): 79.10966682434082\n"
     ]
    },
    {
     "name": "stderr",
     "output_type": "stream",
     "text": [
      "\n"
     ]
    }
   ],
   "source": [
    "# algorithm settings\n",
    "M = 20\n",
    "num_steps = M\n",
    "V_net_config = {\"layers\": [16]}\n",
    "Z_net_config = {\"layers\": [16]}\n",
    "net_config = {\"V\": V_net_config, \"Z\": Z_net_config}\n",
    "model = doob.model(state, obs, num_steps, net_config, device)\n",
    "\n",
    "# optimization configuration\n",
    "optim_config = {\n",
    "    \"minibatch\": 100,\n",
    "    \"num_iterations\": 1000,\n",
    "    \"learning_rate\": 1e-2,\n",
    "    \"weight_decay\": 1e-2,\n",
    "    \"initial_required\": True,\n",
    "}\n",
    "\n",
    "# training\n",
    "time_start = time.time()\n",
    "model.train(theta, optim_config)\n",
    "time_end = time.time()\n",
    "time_elapsed = time_end - time_start\n",
    "print(\"Training time (secs): \" + str(time_elapsed))"
   ]
  },
  {
   "cell_type": "code",
   "execution_count": 10,
   "metadata": {},
   "outputs": [
    {
     "name": "stderr",
     "output_type": "stream",
     "text": [
      "  0%|          | 0/1000 [00:00<?, ?it/s]"
     ]
    },
    {
     "name": "stdout",
     "output_type": "stream",
     "text": [
      "Optimization iteration: 1 Loss: 10.09260082244873\n"
     ]
    },
    {
     "name": "stderr",
     "output_type": "stream",
     "text": [
      " 10%|█         | 102/1000 [00:07<01:11, 12.60it/s]"
     ]
    },
    {
     "name": "stdout",
     "output_type": "stream",
     "text": [
      "Optimization iteration: 100 Loss: 11.28891658782959\n"
     ]
    },
    {
     "name": "stderr",
     "output_type": "stream",
     "text": [
      " 20%|██        | 202/1000 [00:15<01:02, 12.75it/s]"
     ]
    },
    {
     "name": "stdout",
     "output_type": "stream",
     "text": [
      "Optimization iteration: 200 Loss: 11.817627906799316\n"
     ]
    },
    {
     "name": "stderr",
     "output_type": "stream",
     "text": [
      " 30%|███       | 302/1000 [00:22<00:50, 13.71it/s]"
     ]
    },
    {
     "name": "stdout",
     "output_type": "stream",
     "text": [
      "Optimization iteration: 300 Loss: 10.265093803405762\n"
     ]
    },
    {
     "name": "stderr",
     "output_type": "stream",
     "text": [
      " 40%|████      | 402/1000 [00:30<00:46, 12.94it/s]"
     ]
    },
    {
     "name": "stdout",
     "output_type": "stream",
     "text": [
      "Optimization iteration: 400 Loss: 11.357498168945312\n"
     ]
    },
    {
     "name": "stderr",
     "output_type": "stream",
     "text": [
      " 50%|█████     | 502/1000 [00:37<00:36, 13.65it/s]"
     ]
    },
    {
     "name": "stdout",
     "output_type": "stream",
     "text": [
      "Optimization iteration: 500 Loss: 9.722755432128906\n"
     ]
    },
    {
     "name": "stderr",
     "output_type": "stream",
     "text": [
      " 60%|██████    | 602/1000 [00:45<00:30, 13.23it/s]"
     ]
    },
    {
     "name": "stdout",
     "output_type": "stream",
     "text": [
      "Optimization iteration: 600 Loss: 9.897615432739258\n"
     ]
    },
    {
     "name": "stderr",
     "output_type": "stream",
     "text": [
      " 70%|███████   | 702/1000 [00:52<00:22, 13.16it/s]"
     ]
    },
    {
     "name": "stdout",
     "output_type": "stream",
     "text": [
      "Optimization iteration: 700 Loss: 10.62648868560791\n"
     ]
    },
    {
     "name": "stderr",
     "output_type": "stream",
     "text": [
      " 80%|████████  | 802/1000 [01:00<00:14, 13.36it/s]"
     ]
    },
    {
     "name": "stdout",
     "output_type": "stream",
     "text": [
      "Optimization iteration: 800 Loss: 11.557048797607422\n"
     ]
    },
    {
     "name": "stderr",
     "output_type": "stream",
     "text": [
      " 90%|█████████ | 902/1000 [01:07<00:07, 13.74it/s]"
     ]
    },
    {
     "name": "stdout",
     "output_type": "stream",
     "text": [
      "Optimization iteration: 900 Loss: 9.841341972351074\n"
     ]
    },
    {
     "name": "stderr",
     "output_type": "stream",
     "text": [
      "100%|██████████| 1000/1000 [01:15<00:00, 13.28it/s]"
     ]
    },
    {
     "name": "stdout",
     "output_type": "stream",
     "text": [
      "Optimization iteration: 1000 Loss: 11.05733871459961\n",
      "Training time (secs): 75.29039907455444\n"
     ]
    },
    {
     "name": "stderr",
     "output_type": "stream",
     "text": [
      "\n"
     ]
    }
   ],
   "source": [
    "# more training\n",
    "optim_config[\"initial_required\"] = False\n",
    "time_start = time.time()\n",
    "model.train(theta, optim_config)\n",
    "time_end = time.time()\n",
    "time_elapsed = time_end - time_start\n",
    "print(\"Training time (secs): \" + str(time_elapsed))"
   ]
  },
  {
   "cell_type": "markdown",
   "metadata": {},
   "source": [
    "# Run SMC"
   ]
  },
  {
   "cell_type": "code",
   "execution_count": 106,
   "metadata": {},
   "outputs": [],
   "source": [
    "N = 2**10"
   ]
  },
  {
   "cell_type": "code",
   "execution_count": 107,
   "metadata": {},
   "outputs": [
    {
     "name": "stdout",
     "output_type": "stream",
     "text": [
      "Log-likelihood estimate: -25.72178077697754\n"
     ]
    }
   ],
   "source": [
    "_states, _ess, _log_norm_const, _log_ratio_norm_const = simulate_uncontrolled_SMC(\n",
    "    model, theta, X0, Y, N, resample=True, full_path=True\n",
    ")\n",
    "print(\"Log-likelihood estimate: \" + str(float(_log_ratio_norm_const)))"
   ]
  },
  {
   "cell_type": "code",
   "execution_count": 108,
   "metadata": {},
   "outputs": [
    {
     "name": "stdout",
     "output_type": "stream",
     "text": [
      "Log-likelihood estimate: -25.450937271118164\n"
     ]
    }
   ],
   "source": [
    "states, ess, log_norm_const, log_ratio_norm_const = simulate_controlled_SMC(\n",
    "    model, theta, X0, Y, N, resample=True, full_path=True\n",
    ")\n",
    "print(\"Log-likelihood estimate: \" + str(float(log_ratio_norm_const)))"
   ]
  },
  {
   "cell_type": "code",
   "execution_count": 109,
   "metadata": {},
   "outputs": [
    {
     "data": {
      "text/plain": [
       "<matplotlib.legend.Legend at 0x7f9131829220>"
      ]
     },
     "execution_count": 109,
     "metadata": {},
     "output_type": "execute_result"
    },
    {
     "data": {
      "image/png": "[encoded data removed]",
      "text/plain": [
       "<Figure size 432x288 with 1 Axes>"
      ]
     },
     "metadata": {},
     "output_type": "display_data"
    }
   ],
   "source": [
    "plt.figure()\n",
    "plt.plot(_log_norm_const)\n",
    "plt.plot(log_norm_const)\n",
    "plt.ylabel(\"log-likelihood\")\n",
    "plt.legend([\"uncontrolled\", \"controlled\"])"
   ]
  },
  {
   "cell_type": "code",
   "execution_count": 113,
   "metadata": {},
   "outputs": [
    {
     "data": {
      "text/plain": [
       "<matplotlib.legend.Legend at 0x7f913145f0a0>"
      ]
     },
     "execution_count": 113,
     "metadata": {},
     "output_type": "execute_result"
    },
    {
     "data": {
      "image/png": "[encoded data removed]",
      "text/plain": [
       "<Figure size 432x288 with 1 Axes>"
      ]
     },
     "metadata": {},
     "output_type": "display_data"
    }
   ],
   "source": [
    "plt.figure()\n",
    "plt.plot(_ess * 100 / N)\n",
    "plt.plot(ess * 100 / N)\n",
    "plt.ylabel(\"ESS%\")\n",
    "plt.title(\"OU\")\n",
    "plt.legend([\"uncontrolled\", \"controlled\"])"
   ]
  },
  {
   "cell_type": "code",
   "execution_count": 112,
   "metadata": {},
   "outputs": [
    {
     "data": {
      "image/png": "[encoded data removed]",
      "text/plain": [
       "<Figure size 432x288 with 1 Axes>"
      ]
     },
     "metadata": {},
     "output_type": "display_data"
    }
   ],
   "source": [
    "# plot states and observations (for full_path = False)\n",
    "times = torch.linspace(0.0, T * interval, T * M + 1, device=device)\n",
    "plt.figure()\n",
    "plt.plot(torch.arange(T + 1), X[:, 0], \"r-\")\n",
    "plt.plot(torch.arange(1, T + 1), Y[:, 0], \"bx\")\n",
    "plt.plot(times, torch.mean(states[:, :, 0], 0), \"k-\")\n",
    "plt.plot(times, torch.mean(_states[:, :, 0], 0), 'c-')\n",
    "# for n in range(N):\n",
    "    # plt.plot(times, states[n, :, 0], 'k.', alpha = 0.01)\n",
    "plt.xlabel(\"step\", fontsize=15)\n",
    "plt.legend([\"state\", \"observation\", \"uncontrolled mean\", \"controlled mean\"], fontsize=15)\n",
    "plt.show()"
   ]
  },
  {
   "cell_type": "code",
   "execution_count": null,
   "metadata": {},
   "outputs": [],
   "source": []
  }
 ],
 "metadata": {
  "kernelspec": {
   "display_name": "standard",
   "language": "python",
   "name": "python3"
  },
  "language_info": {
   "codemirror_mode": {
    "name": "ipython",
    "version": 3
   },
   "file_extension": ".py",
   "mimetype": "text/x-python",
   "name": "python",
   "nbconvert_exporter": "python",
   "pygments_lexer": "ipython3",
   "version": "3.9.7"
  }
 },
 "nbformat": 4,
 "nbformat_minor": 2
}
