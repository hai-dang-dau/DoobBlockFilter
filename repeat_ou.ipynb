{
 "cells": [
  {
   "cell_type": "markdown",
   "metadata": {},
   "source": [
    "# Ornstein-Uhlenbeck model"
   ]
  },
  {
   "cell_type": "code",
   "execution_count": 1,
   "metadata": {},
   "outputs": [],
   "source": [
    "%load_ext autoreload\n",
    "%autoreload 2"
   ]
  },
  {
   "cell_type": "code",
   "execution_count": 43,
   "metadata": {},
   "outputs": [],
   "source": [
    "%reload_ext autoreload\n",
    "import torch\n",
    "import time\n",
    "import doobhtransform as bdt\n",
    "import CompDoobTransform as cdt\n",
    "\n",
    "from tqdm import tqdm\n",
    "from doobhtransform.utils import normal_logpdf\n",
    "from particlefilter.block import simulate_block_SMC"
   ]
  },
  {
   "cell_type": "code",
   "execution_count": 3,
   "metadata": {},
   "outputs": [
    {
     "name": "stdout",
     "output_type": "stream",
     "text": [
      "Computing on cpu\n"
     ]
    }
   ],
   "source": [
    "import matplotlib.pyplot as plt\n",
    "import pandas as pd\n",
    "\n",
    "plt.style.use(\"ggplot\")\n",
    "device = torch.device(\"cuda\" if torch.cuda.is_available() else \"cpu\")\n",
    "print(\"Computing on \" + str(device))"
   ]
  },
  {
   "cell_type": "markdown",
   "metadata": {},
   "source": [
    "# Tuning parameters "
   ]
  },
  {
   "cell_type": "code",
   "execution_count": 4,
   "metadata": {},
   "outputs": [],
   "source": [
    "d = 2\n",
    "std_obs = 1.0\n",
    "filename = \"ou.pt\""
   ]
  },
  {
   "cell_type": "markdown",
   "metadata": {},
   "source": [
    "# Latent process"
   ]
  },
  {
   "cell_type": "code",
   "execution_count": 5,
   "metadata": {},
   "outputs": [],
   "source": [
    "# dict for objects relating to latent process\n",
    "state = {}\n",
    "\n",
    "# dimension of state\n",
    "state[\"dim\"] = d\n",
    "\n",
    "# drift of diffusion\n",
    "beta = torch.tensor(1.0, device=device)\n",
    "b = lambda x: -beta * x\n",
    "state[\"drift\"] = b\n",
    "\n",
    "# diffusion coefficient of diffusion\n",
    "sigma = torch.tensor(1.0, device=device)\n",
    "state[\"sigma\"] = sigma\n",
    "\n",
    "# simulate initial states (from stationary distribution)\n",
    "rinit = lambda N: (sigma / torch.sqrt(2.0 * beta)) * torch.randn(N, d, device=device)\n",
    "\n",
    "# time interval between observations\n",
    "interval = torch.tensor(1.0, device=device)\n",
    "state[\"terminal_time\"] = interval\n",
    "\n",
    "# number of time-discretization steps\n",
    "M = 50  "
   ]
  },
  {
   "cell_type": "markdown",
   "metadata": {},
   "source": [
    "# Observation model"
   ]
  },
  {
   "cell_type": "code",
   "execution_count": 6,
   "metadata": {},
   "outputs": [],
   "source": [
    "# dict for objects relating to observations\n",
    "obs = {}\n",
    "\n",
    "# dimension of observation\n",
    "p = d\n",
    "obs[\"dim\"] = p\n",
    "\n",
    "# number of observations\n",
    "# T = 2\n",
    "# obs[\"num_obs\"] = T\n",
    "\n",
    "# observation parameters\n",
    "var_obs = torch.tensor(std_obs**2, device=device)  # variance of observation\n",
    "\n",
    "# log-observation density\n",
    "obs_log_density = lambda x, y: normal_logpdf(\n",
    "    y, x, var_obs\n",
    ")  # terminal condition, returns size (N)\n",
    "obs[\"log_density\"] = obs_log_density"
   ]
  },
  {
   "cell_type": "markdown",
   "metadata": {},
   "source": [
    "# Standardization means and standard deviations"
   ]
  },
  {
   "cell_type": "code",
   "execution_count": 69,
   "metadata": {},
   "outputs": [
    {
     "data": {
      "text/plain": [
       "{'x_mean': tensor([0., 0.]),\n",
       " 'x_std': tensor([0.7071, 0.7071]),\n",
       " 'y_mean': tensor([0., 0.]),\n",
       " 'y_std': tensor([1.2247, 1.2247])}"
      ]
     },
     "execution_count": 69,
     "metadata": {},
     "output_type": "execute_result"
    }
   ],
   "source": [
    "standardization = {\n",
    "    \"x_mean\": torch.zeros(d),\n",
    "    \"x_std\": (sigma / torch.sqrt(2.0 * beta)) * torch.ones(d),\n",
    "    \"y_mean\": torch.zeros(p),\n",
    "    \"y_std\": torch.sqrt(sigma**2 / (2.0 * beta) + var_obs) * torch.ones(p),\n",
    "}\n",
    "\n",
    "standardization"
   ]
  },
  {
   "cell_type": "markdown",
   "metadata": {},
   "source": [
    "# Train with single observation"
   ]
  },
  {
   "cell_type": "code",
   "execution_count": 113,
   "metadata": {},
   "outputs": [
    {
     "name": "stdout",
     "output_type": "stream",
     "text": [
      "Optimization iteration: 1 Loss: 21.442825317382812\n",
      "Optimization iteration: 50 Loss: 0.9971630573272705\n",
      "Optimization iteration: 100 Loss: 0.28255152702331543\n",
      "Optimization iteration: 150 Loss: 0.15305447578430176\n",
      "Optimization iteration: 200 Loss: 0.1397433578968048\n",
      "Optimization iteration: 250 Loss: 0.1005239486694336\n",
      "Optimization iteration: 300 Loss: 0.08707404136657715\n",
      "Optimization iteration: 350 Loss: 0.14402683079242706\n",
      "Optimization iteration: 400 Loss: 0.07698382437229156\n",
      "Optimization iteration: 450 Loss: 0.11249586194753647\n",
      "Optimization iteration: 500 Loss: 0.12418752163648605\n",
      "Optimization iteration: 550 Loss: 0.045933812856674194\n",
      "Optimization iteration: 600 Loss: 0.0353827066719532\n",
      "Optimization iteration: 650 Loss: 0.05313536152243614\n",
      "Optimization iteration: 700 Loss: 0.04060818627476692\n",
      "Optimization iteration: 750 Loss: 0.13644053041934967\n",
      "Optimization iteration: 800 Loss: 0.059902582317590714\n",
      "Optimization iteration: 850 Loss: 0.04207805544137955\n",
      "Optimization iteration: 900 Loss: 0.03741886094212532\n",
      "Optimization iteration: 950 Loss: 0.020158540457487106\n",
      "Optimization iteration: 1000 Loss: 0.03918278217315674\n",
      "Optimization iteration: 1050 Loss: 0.11855572462081909\n",
      "Optimization iteration: 1100 Loss: 0.02968434803187847\n",
      "Optimization iteration: 1150 Loss: 0.049143265932798386\n",
      "Optimization iteration: 1200 Loss: 0.037436265498399734\n",
      "Optimization iteration: 1250 Loss: 0.02630598656833172\n",
      "Optimization iteration: 1300 Loss: 0.05941503494977951\n",
      "Optimization iteration: 1350 Loss: 0.03101704642176628\n",
      "Optimization iteration: 1400 Loss: 0.035379573702812195\n",
      "Optimization iteration: 1450 Loss: 0.02632318064570427\n",
      "Optimization iteration: 1500 Loss: 0.03710838407278061\n",
      "Optimization iteration: 1550 Loss: 0.029938580468297005\n",
      "Optimization iteration: 1600 Loss: 0.07211913913488388\n",
      "Optimization iteration: 1650 Loss: 0.024198975414037704\n",
      "Optimization iteration: 1700 Loss: 0.10748261958360672\n",
      "Optimization iteration: 1750 Loss: 0.01988552138209343\n",
      "Optimization iteration: 1800 Loss: 0.11817282438278198\n",
      "Optimization iteration: 1850 Loss: 0.049686964601278305\n",
      "Optimization iteration: 1900 Loss: 0.016669511795043945\n",
      "Optimization iteration: 1950 Loss: 0.030367398634552956\n",
      "Optimization iteration: 2000 Loss: 0.017366614192724228\n"
     ]
    }
   ],
   "source": [
    "def create_cdt_model(state, obs):\n",
    "    # latent process\n",
    "    _state = state.copy()\n",
    "    _state[\"initial\"] = rinit\n",
    "\n",
    "    # observation model\n",
    "    _obs = obs.copy()\n",
    "    _obs[\"observation\"] = lambda N: rinit(N) + torch.sqrt(var_obs) * torch.randn(\n",
    "        N, p, device=device\n",
    "    )\n",
    "\n",
    "    # V0 and Z neural network configuration\n",
    "    V0_net_config = {\"layers\": [16], \"standardization\": standardization}\n",
    "    Z_net_config = {\"layers\": [d + 16], \"standardization\": standardization}\n",
    "    net_config = {\"V0\": V0_net_config, \"Z\": Z_net_config}\n",
    "\n",
    "    return cdt.core.model(_state, _obs, M, net_config, device=device)\n",
    "\n",
    "\n",
    "# create model instance\n",
    "cdt_model = create_cdt_model(state, obs)\n",
    "\n",
    "# train model\n",
    "cdt_optim = {\n",
    "    \"minibatch\": 100,\n",
    "    \"num_obs_per_batch\": 10,\n",
    "    \"num_iterations\": 2000,\n",
    "    \"learning_rate\": 1e-2,\n",
    "    \"initial_required\": True,\n",
    "}\n",
    "cdt_model.train_iterative(cdt_optim)"
   ]
  },
  {
   "cell_type": "code",
   "execution_count": 114,
   "metadata": {},
   "outputs": [
    {
     "data": {
      "text/plain": [
       "<AxesSubplot:>"
      ]
     },
     "execution_count": 114,
     "metadata": {},
     "output_type": "execute_result"
    },
    {
     "data": {
      "image/png": "[encoded data removed]",
      "text/plain": [
       "<Figure size 432x288 with 1 Axes>"
      ]
     },
     "metadata": {},
     "output_type": "display_data"
    }
   ],
   "source": [
    "pd.Series(cdt_model.loss).plot()"
   ]
  },
  {
   "cell_type": "markdown",
   "metadata": {},
   "source": [
    "# Train with block of observations "
   ]
  },
  {
   "cell_type": "code",
   "execution_count": 115,
   "metadata": {},
   "outputs": [
    {
     "name": "stdout",
     "output_type": "stream",
     "text": [
      "Training model: model2\n"
     ]
    },
    {
     "name": "stderr",
     "output_type": "stream",
     "text": [
      "  0%|          | 3/2000 [00:00<01:21, 24.65it/s]"
     ]
    },
    {
     "name": "stdout",
     "output_type": "stream",
     "text": [
      "Optimization iteration: 1 Loss: 15.162395477294922\n"
     ]
    },
    {
     "name": "stderr",
     "output_type": "stream",
     "text": [
      "  5%|▌         | 102/2000 [00:04<01:17, 24.45it/s]"
     ]
    },
    {
     "name": "stdout",
     "output_type": "stream",
     "text": [
      "Optimization iteration: 100 Loss: 0.887726902961731\n"
     ]
    },
    {
     "name": "stderr",
     "output_type": "stream",
     "text": [
      " 10%|█         | 204/2000 [00:08<01:13, 24.44it/s]"
     ]
    },
    {
     "name": "stdout",
     "output_type": "stream",
     "text": [
      "Optimization iteration: 200 Loss: 4.262095928192139\n"
     ]
    },
    {
     "name": "stderr",
     "output_type": "stream",
     "text": [
      " 15%|█▌        | 303/2000 [00:12<01:08, 24.61it/s]"
     ]
    },
    {
     "name": "stdout",
     "output_type": "stream",
     "text": [
      "Optimization iteration: 300 Loss: 0.88845294713974\n"
     ]
    },
    {
     "name": "stderr",
     "output_type": "stream",
     "text": [
      " 20%|██        | 402/2000 [00:16<01:05, 24.44it/s]"
     ]
    },
    {
     "name": "stdout",
     "output_type": "stream",
     "text": [
      "Optimization iteration: 400 Loss: 3.2106659412384033\n"
     ]
    },
    {
     "name": "stderr",
     "output_type": "stream",
     "text": [
      " 25%|██▌       | 504/2000 [00:20<01:00, 24.62it/s]"
     ]
    },
    {
     "name": "stdout",
     "output_type": "stream",
     "text": [
      "Optimization iteration: 500 Loss: 0.6257847547531128\n"
     ]
    },
    {
     "name": "stderr",
     "output_type": "stream",
     "text": [
      " 30%|███       | 603/2000 [00:24<00:56, 24.60it/s]"
     ]
    },
    {
     "name": "stdout",
     "output_type": "stream",
     "text": [
      "Optimization iteration: 600 Loss: 0.3835340142250061\n"
     ]
    },
    {
     "name": "stderr",
     "output_type": "stream",
     "text": [
      " 35%|███▌      | 702/2000 [00:28<00:53, 24.39it/s]"
     ]
    },
    {
     "name": "stdout",
     "output_type": "stream",
     "text": [
      "Optimization iteration: 700 Loss: 0.23325443267822266\n"
     ]
    },
    {
     "name": "stderr",
     "output_type": "stream",
     "text": [
      " 40%|████      | 804/2000 [00:32<00:48, 24.51it/s]"
     ]
    },
    {
     "name": "stdout",
     "output_type": "stream",
     "text": [
      "Optimization iteration: 800 Loss: 1.3120794296264648\n"
     ]
    },
    {
     "name": "stderr",
     "output_type": "stream",
     "text": [
      " 45%|████▌     | 903/2000 [00:37<00:44, 24.42it/s]"
     ]
    },
    {
     "name": "stdout",
     "output_type": "stream",
     "text": [
      "Optimization iteration: 900 Loss: 0.15869998931884766\n"
     ]
    },
    {
     "name": "stderr",
     "output_type": "stream",
     "text": [
      " 50%|█████     | 1002/2000 [00:41<00:40, 24.42it/s]"
     ]
    },
    {
     "name": "stdout",
     "output_type": "stream",
     "text": [
      "Optimization iteration: 1000 Loss: 0.18942660093307495\n"
     ]
    },
    {
     "name": "stderr",
     "output_type": "stream",
     "text": [
      " 55%|█████▌    | 1104/2000 [00:45<00:36, 24.40it/s]"
     ]
    },
    {
     "name": "stdout",
     "output_type": "stream",
     "text": [
      "Optimization iteration: 1100 Loss: 0.12655885517597198\n"
     ]
    },
    {
     "name": "stderr",
     "output_type": "stream",
     "text": [
      " 60%|██████    | 1203/2000 [00:49<00:32, 24.33it/s]"
     ]
    },
    {
     "name": "stdout",
     "output_type": "stream",
     "text": [
      "Optimization iteration: 1200 Loss: 0.26507484912872314\n"
     ]
    },
    {
     "name": "stderr",
     "output_type": "stream",
     "text": [
      " 65%|██████▌   | 1302/2000 [00:53<00:28, 24.41it/s]"
     ]
    },
    {
     "name": "stdout",
     "output_type": "stream",
     "text": [
      "Optimization iteration: 1300 Loss: 0.14281724393367767\n"
     ]
    },
    {
     "name": "stderr",
     "output_type": "stream",
     "text": [
      " 70%|███████   | 1404/2000 [00:57<00:24, 24.54it/s]"
     ]
    },
    {
     "name": "stdout",
     "output_type": "stream",
     "text": [
      "Optimization iteration: 1400 Loss: 0.23212015628814697\n"
     ]
    },
    {
     "name": "stderr",
     "output_type": "stream",
     "text": [
      " 75%|███████▌  | 1503/2000 [01:01<00:20, 24.30it/s]"
     ]
    },
    {
     "name": "stdout",
     "output_type": "stream",
     "text": [
      "Optimization iteration: 1500 Loss: 0.21318238973617554\n"
     ]
    },
    {
     "name": "stderr",
     "output_type": "stream",
     "text": [
      " 80%|████████  | 1602/2000 [01:05<00:17, 23.34it/s]"
     ]
    },
    {
     "name": "stdout",
     "output_type": "stream",
     "text": [
      "Optimization iteration: 1600 Loss: 1.8102706670761108\n"
     ]
    },
    {
     "name": "stderr",
     "output_type": "stream",
     "text": [
      " 85%|████████▌ | 1704/2000 [01:10<00:12, 23.95it/s]"
     ]
    },
    {
     "name": "stdout",
     "output_type": "stream",
     "text": [
      "Optimization iteration: 1700 Loss: 0.22764252126216888\n"
     ]
    },
    {
     "name": "stderr",
     "output_type": "stream",
     "text": [
      " 90%|█████████ | 1803/2000 [01:14<00:08, 24.47it/s]"
     ]
    },
    {
     "name": "stdout",
     "output_type": "stream",
     "text": [
      "Optimization iteration: 1800 Loss: 0.18362882733345032\n"
     ]
    },
    {
     "name": "stderr",
     "output_type": "stream",
     "text": [
      " 95%|█████████▌| 1902/2000 [01:18<00:04, 24.21it/s]"
     ]
    },
    {
     "name": "stdout",
     "output_type": "stream",
     "text": [
      "Optimization iteration: 1900 Loss: 1.148755431175232\n"
     ]
    },
    {
     "name": "stderr",
     "output_type": "stream",
     "text": [
      "100%|██████████| 2000/2000 [01:22<00:00, 24.31it/s]\n"
     ]
    },
    {
     "name": "stdout",
     "output_type": "stream",
     "text": [
      "Optimization iteration: 2000 Loss: 0.5303131341934204\n",
      "Training model: model2full\n"
     ]
    },
    {
     "name": "stderr",
     "output_type": "stream",
     "text": [
      "  0%|          | 3/2000 [00:00<01:26, 22.99it/s]"
     ]
    },
    {
     "name": "stdout",
     "output_type": "stream",
     "text": [
      "Optimization iteration: 1 Loss: 20.342655181884766\n"
     ]
    },
    {
     "name": "stderr",
     "output_type": "stream",
     "text": [
      "  5%|▌         | 102/2000 [00:04<01:18, 24.12it/s]"
     ]
    },
    {
     "name": "stdout",
     "output_type": "stream",
     "text": [
      "Optimization iteration: 100 Loss: 0.8132835626602173\n"
     ]
    },
    {
     "name": "stderr",
     "output_type": "stream",
     "text": [
      " 10%|█         | 204/2000 [00:08<01:14, 24.13it/s]"
     ]
    },
    {
     "name": "stdout",
     "output_type": "stream",
     "text": [
      "Optimization iteration: 200 Loss: 0.5173808336257935\n"
     ]
    },
    {
     "name": "stderr",
     "output_type": "stream",
     "text": [
      " 15%|█▌        | 303/2000 [00:12<01:10, 24.20it/s]"
     ]
    },
    {
     "name": "stdout",
     "output_type": "stream",
     "text": [
      "Optimization iteration: 300 Loss: 2.818876266479492\n"
     ]
    },
    {
     "name": "stderr",
     "output_type": "stream",
     "text": [
      " 20%|██        | 402/2000 [00:16<01:05, 24.34it/s]"
     ]
    },
    {
     "name": "stdout",
     "output_type": "stream",
     "text": [
      "Optimization iteration: 400 Loss: 1.0007963180541992\n"
     ]
    },
    {
     "name": "stderr",
     "output_type": "stream",
     "text": [
      " 25%|██▌       | 504/2000 [00:21<01:03, 23.38it/s]"
     ]
    },
    {
     "name": "stdout",
     "output_type": "stream",
     "text": [
      "Optimization iteration: 500 Loss: 0.27359193563461304\n"
     ]
    },
    {
     "name": "stderr",
     "output_type": "stream",
     "text": [
      " 30%|███       | 603/2000 [00:25<00:58, 23.84it/s]"
     ]
    },
    {
     "name": "stdout",
     "output_type": "stream",
     "text": [
      "Optimization iteration: 600 Loss: 0.8329025506973267\n"
     ]
    },
    {
     "name": "stderr",
     "output_type": "stream",
     "text": [
      " 35%|███▌      | 702/2000 [00:29<00:56, 23.12it/s]"
     ]
    },
    {
     "name": "stdout",
     "output_type": "stream",
     "text": [
      "Optimization iteration: 700 Loss: 0.1721629500389099\n"
     ]
    },
    {
     "name": "stderr",
     "output_type": "stream",
     "text": [
      " 40%|████      | 804/2000 [00:33<00:49, 24.10it/s]"
     ]
    },
    {
     "name": "stdout",
     "output_type": "stream",
     "text": [
      "Optimization iteration: 800 Loss: 0.1817069947719574\n"
     ]
    },
    {
     "name": "stderr",
     "output_type": "stream",
     "text": [
      " 45%|████▌     | 903/2000 [00:37<00:45, 24.18it/s]"
     ]
    },
    {
     "name": "stdout",
     "output_type": "stream",
     "text": [
      "Optimization iteration: 900 Loss: 0.5848641395568848\n"
     ]
    },
    {
     "name": "stderr",
     "output_type": "stream",
     "text": [
      " 50%|█████     | 1002/2000 [00:41<00:41, 23.78it/s]"
     ]
    },
    {
     "name": "stdout",
     "output_type": "stream",
     "text": [
      "Optimization iteration: 1000 Loss: 0.09580620378255844\n"
     ]
    },
    {
     "name": "stderr",
     "output_type": "stream",
     "text": [
      " 55%|█████▌    | 1104/2000 [00:46<00:37, 24.12it/s]"
     ]
    },
    {
     "name": "stdout",
     "output_type": "stream",
     "text": [
      "Optimization iteration: 1100 Loss: 0.09451628476381302\n"
     ]
    },
    {
     "name": "stderr",
     "output_type": "stream",
     "text": [
      " 60%|██████    | 1203/2000 [00:50<00:33, 24.13it/s]"
     ]
    },
    {
     "name": "stdout",
     "output_type": "stream",
     "text": [
      "Optimization iteration: 1200 Loss: 0.6893682479858398\n"
     ]
    },
    {
     "name": "stderr",
     "output_type": "stream",
     "text": [
      " 65%|██████▌   | 1302/2000 [00:54<00:28, 24.22it/s]"
     ]
    },
    {
     "name": "stdout",
     "output_type": "stream",
     "text": [
      "Optimization iteration: 1300 Loss: 2.1630606651306152\n"
     ]
    },
    {
     "name": "stderr",
     "output_type": "stream",
     "text": [
      " 70%|███████   | 1404/2000 [00:58<00:24, 24.09it/s]"
     ]
    },
    {
     "name": "stdout",
     "output_type": "stream",
     "text": [
      "Optimization iteration: 1400 Loss: 0.21186956763267517\n"
     ]
    },
    {
     "name": "stderr",
     "output_type": "stream",
     "text": [
      " 75%|███████▌  | 1503/2000 [01:02<00:20, 24.11it/s]"
     ]
    },
    {
     "name": "stdout",
     "output_type": "stream",
     "text": [
      "Optimization iteration: 1500 Loss: 0.11808979511260986\n"
     ]
    },
    {
     "name": "stderr",
     "output_type": "stream",
     "text": [
      " 80%|████████  | 1602/2000 [01:06<00:16, 23.83it/s]"
     ]
    },
    {
     "name": "stdout",
     "output_type": "stream",
     "text": [
      "Optimization iteration: 1600 Loss: 0.23080958425998688\n"
     ]
    },
    {
     "name": "stderr",
     "output_type": "stream",
     "text": [
      " 85%|████████▌ | 1704/2000 [01:10<00:12, 24.42it/s]"
     ]
    },
    {
     "name": "stdout",
     "output_type": "stream",
     "text": [
      "Optimization iteration: 1700 Loss: 0.15966841578483582\n"
     ]
    },
    {
     "name": "stderr",
     "output_type": "stream",
     "text": [
      " 90%|█████████ | 1803/2000 [01:15<00:08, 24.26it/s]"
     ]
    },
    {
     "name": "stdout",
     "output_type": "stream",
     "text": [
      "Optimization iteration: 1800 Loss: 0.5836281776428223\n"
     ]
    },
    {
     "name": "stderr",
     "output_type": "stream",
     "text": [
      " 95%|█████████▌| 1902/2000 [01:19<00:04, 24.44it/s]"
     ]
    },
    {
     "name": "stdout",
     "output_type": "stream",
     "text": [
      "Optimization iteration: 1900 Loss: 0.0767143964767456\n"
     ]
    },
    {
     "name": "stderr",
     "output_type": "stream",
     "text": [
      "100%|██████████| 2000/2000 [01:23<00:00, 24.00it/s]\n"
     ]
    },
    {
     "name": "stdout",
     "output_type": "stream",
     "text": [
      "Optimization iteration: 2000 Loss: 0.2844940721988678\n",
      "Training model: model4\n"
     ]
    },
    {
     "name": "stderr",
     "output_type": "stream",
     "text": [
      "  0%|          | 2/2000 [00:00<02:45, 12.09it/s]"
     ]
    },
    {
     "name": "stdout",
     "output_type": "stream",
     "text": [
      "Optimization iteration: 1 Loss: 42.54962158203125\n"
     ]
    },
    {
     "name": "stderr",
     "output_type": "stream",
     "text": [
      "  5%|▌         | 102/2000 [00:08<02:36, 12.13it/s]"
     ]
    },
    {
     "name": "stdout",
     "output_type": "stream",
     "text": [
      "Optimization iteration: 100 Loss: 24.10355567932129\n"
     ]
    },
    {
     "name": "stderr",
     "output_type": "stream",
     "text": [
      " 10%|█         | 202/2000 [00:16<02:29, 12.06it/s]"
     ]
    },
    {
     "name": "stdout",
     "output_type": "stream",
     "text": [
      "Optimization iteration: 200 Loss: 6.092894554138184\n"
     ]
    },
    {
     "name": "stderr",
     "output_type": "stream",
     "text": [
      " 15%|█▌        | 302/2000 [00:24<02:19, 12.21it/s]"
     ]
    },
    {
     "name": "stdout",
     "output_type": "stream",
     "text": [
      "Optimization iteration: 300 Loss: 10.295750617980957\n"
     ]
    },
    {
     "name": "stderr",
     "output_type": "stream",
     "text": [
      " 20%|██        | 402/2000 [00:32<02:10, 12.21it/s]"
     ]
    },
    {
     "name": "stdout",
     "output_type": "stream",
     "text": [
      "Optimization iteration: 400 Loss: 2.2015907764434814\n"
     ]
    },
    {
     "name": "stderr",
     "output_type": "stream",
     "text": [
      " 25%|██▌       | 502/2000 [00:41<02:01, 12.29it/s]"
     ]
    },
    {
     "name": "stdout",
     "output_type": "stream",
     "text": [
      "Optimization iteration: 500 Loss: 1.5971099138259888\n"
     ]
    },
    {
     "name": "stderr",
     "output_type": "stream",
     "text": [
      " 30%|███       | 602/2000 [00:49<01:53, 12.32it/s]"
     ]
    },
    {
     "name": "stdout",
     "output_type": "stream",
     "text": [
      "Optimization iteration: 600 Loss: 2.798302412033081\n"
     ]
    },
    {
     "name": "stderr",
     "output_type": "stream",
     "text": [
      " 35%|███▌      | 702/2000 [00:57<01:46, 12.24it/s]"
     ]
    },
    {
     "name": "stdout",
     "output_type": "stream",
     "text": [
      "Optimization iteration: 700 Loss: 1.1446621417999268\n"
     ]
    },
    {
     "name": "stderr",
     "output_type": "stream",
     "text": [
      " 40%|████      | 802/2000 [01:05<01:37, 12.23it/s]"
     ]
    },
    {
     "name": "stdout",
     "output_type": "stream",
     "text": [
      "Optimization iteration: 800 Loss: 0.4459819495677948\n"
     ]
    },
    {
     "name": "stderr",
     "output_type": "stream",
     "text": [
      " 45%|████▌     | 902/2000 [01:13<01:29, 12.27it/s]"
     ]
    },
    {
     "name": "stdout",
     "output_type": "stream",
     "text": [
      "Optimization iteration: 900 Loss: 3.061093807220459\n"
     ]
    },
    {
     "name": "stderr",
     "output_type": "stream",
     "text": [
      " 50%|█████     | 1002/2000 [01:22<01:24, 11.87it/s]"
     ]
    },
    {
     "name": "stdout",
     "output_type": "stream",
     "text": [
      "Optimization iteration: 1000 Loss: 3.6280460357666016\n"
     ]
    },
    {
     "name": "stderr",
     "output_type": "stream",
     "text": [
      " 55%|█████▌    | 1102/2000 [01:30<01:14, 12.05it/s]"
     ]
    },
    {
     "name": "stdout",
     "output_type": "stream",
     "text": [
      "Optimization iteration: 1100 Loss: 0.5681987404823303\n"
     ]
    },
    {
     "name": "stderr",
     "output_type": "stream",
     "text": [
      " 60%|██████    | 1202/2000 [01:38<01:05, 12.11it/s]"
     ]
    },
    {
     "name": "stdout",
     "output_type": "stream",
     "text": [
      "Optimization iteration: 1200 Loss: 0.2553569972515106\n"
     ]
    },
    {
     "name": "stderr",
     "output_type": "stream",
     "text": [
      " 65%|██████▌   | 1302/2000 [01:47<00:57, 12.04it/s]"
     ]
    },
    {
     "name": "stdout",
     "output_type": "stream",
     "text": [
      "Optimization iteration: 1300 Loss: 0.6911903619766235\n"
     ]
    },
    {
     "name": "stderr",
     "output_type": "stream",
     "text": [
      " 70%|███████   | 1402/2000 [01:55<00:49, 12.08it/s]"
     ]
    },
    {
     "name": "stdout",
     "output_type": "stream",
     "text": [
      "Optimization iteration: 1400 Loss: 1.3689697980880737\n"
     ]
    },
    {
     "name": "stderr",
     "output_type": "stream",
     "text": [
      " 75%|███████▌  | 1502/2000 [02:04<00:43, 11.55it/s]"
     ]
    },
    {
     "name": "stdout",
     "output_type": "stream",
     "text": [
      "Optimization iteration: 1500 Loss: 4.738248348236084\n"
     ]
    },
    {
     "name": "stderr",
     "output_type": "stream",
     "text": [
      " 80%|████████  | 1602/2000 [02:12<00:33, 12.03it/s]"
     ]
    },
    {
     "name": "stdout",
     "output_type": "stream",
     "text": [
      "Optimization iteration: 1600 Loss: 0.8586791753768921\n"
     ]
    },
    {
     "name": "stderr",
     "output_type": "stream",
     "text": [
      " 85%|████████▌ | 1702/2000 [02:21<00:24, 11.97it/s]"
     ]
    },
    {
     "name": "stdout",
     "output_type": "stream",
     "text": [
      "Optimization iteration: 1700 Loss: 1.1329731941223145\n"
     ]
    },
    {
     "name": "stderr",
     "output_type": "stream",
     "text": [
      " 90%|█████████ | 1802/2000 [02:29<00:16, 12.18it/s]"
     ]
    },
    {
     "name": "stdout",
     "output_type": "stream",
     "text": [
      "Optimization iteration: 1800 Loss: 1.4729965925216675\n"
     ]
    },
    {
     "name": "stderr",
     "output_type": "stream",
     "text": [
      " 95%|█████████▌| 1902/2000 [02:37<00:08, 12.12it/s]"
     ]
    },
    {
     "name": "stdout",
     "output_type": "stream",
     "text": [
      "Optimization iteration: 1900 Loss: 1.1885695457458496\n"
     ]
    },
    {
     "name": "stderr",
     "output_type": "stream",
     "text": [
      "100%|██████████| 2000/2000 [02:45<00:00, 12.06it/s]\n"
     ]
    },
    {
     "name": "stdout",
     "output_type": "stream",
     "text": [
      "Optimization iteration: 2000 Loss: 1.1581494808197021\n",
      "Training model: model4full\n"
     ]
    },
    {
     "name": "stderr",
     "output_type": "stream",
     "text": [
      "  0%|          | 2/2000 [00:00<02:59, 11.10it/s]"
     ]
    },
    {
     "name": "stdout",
     "output_type": "stream",
     "text": [
      "Optimization iteration: 1 Loss: 97.64046478271484\n"
     ]
    },
    {
     "name": "stderr",
     "output_type": "stream",
     "text": [
      "  5%|▌         | 102/2000 [00:08<02:40, 11.83it/s]"
     ]
    },
    {
     "name": "stdout",
     "output_type": "stream",
     "text": [
      "Optimization iteration: 100 Loss: 65.37814331054688\n"
     ]
    },
    {
     "name": "stderr",
     "output_type": "stream",
     "text": [
      " 10%|█         | 202/2000 [00:17<02:32, 11.78it/s]"
     ]
    },
    {
     "name": "stdout",
     "output_type": "stream",
     "text": [
      "Optimization iteration: 200 Loss: 7.70995569229126\n"
     ]
    },
    {
     "name": "stderr",
     "output_type": "stream",
     "text": [
      " 15%|█▌        | 302/2000 [00:25<02:22, 11.92it/s]"
     ]
    },
    {
     "name": "stdout",
     "output_type": "stream",
     "text": [
      "Optimization iteration: 300 Loss: 15.650575637817383\n"
     ]
    },
    {
     "name": "stderr",
     "output_type": "stream",
     "text": [
      " 20%|██        | 402/2000 [00:33<02:12, 12.05it/s]"
     ]
    },
    {
     "name": "stdout",
     "output_type": "stream",
     "text": [
      "Optimization iteration: 400 Loss: 1.40639066696167\n"
     ]
    },
    {
     "name": "stderr",
     "output_type": "stream",
     "text": [
      " 25%|██▌       | 502/2000 [00:42<02:05, 11.96it/s]"
     ]
    },
    {
     "name": "stdout",
     "output_type": "stream",
     "text": [
      "Optimization iteration: 500 Loss: 1.4598406553268433\n"
     ]
    },
    {
     "name": "stderr",
     "output_type": "stream",
     "text": [
      " 30%|███       | 602/2000 [00:50<01:57, 11.87it/s]"
     ]
    },
    {
     "name": "stdout",
     "output_type": "stream",
     "text": [
      "Optimization iteration: 600 Loss: 0.6620461344718933\n"
     ]
    },
    {
     "name": "stderr",
     "output_type": "stream",
     "text": [
      " 35%|███▌      | 702/2000 [00:59<01:49, 11.86it/s]"
     ]
    },
    {
     "name": "stdout",
     "output_type": "stream",
     "text": [
      "Optimization iteration: 700 Loss: 4.289982795715332\n"
     ]
    },
    {
     "name": "stderr",
     "output_type": "stream",
     "text": [
      " 40%|████      | 802/2000 [01:07<01:40, 11.91it/s]"
     ]
    },
    {
     "name": "stdout",
     "output_type": "stream",
     "text": [
      "Optimization iteration: 800 Loss: 2.491102457046509\n"
     ]
    },
    {
     "name": "stderr",
     "output_type": "stream",
     "text": [
      " 45%|████▌     | 902/2000 [01:16<01:31, 11.96it/s]"
     ]
    },
    {
     "name": "stdout",
     "output_type": "stream",
     "text": [
      "Optimization iteration: 900 Loss: 1.7300678491592407\n"
     ]
    },
    {
     "name": "stderr",
     "output_type": "stream",
     "text": [
      " 50%|█████     | 1002/2000 [01:24<01:23, 11.94it/s]"
     ]
    },
    {
     "name": "stdout",
     "output_type": "stream",
     "text": [
      "Optimization iteration: 1000 Loss: 0.7738492488861084\n"
     ]
    },
    {
     "name": "stderr",
     "output_type": "stream",
     "text": [
      " 55%|█████▌    | 1102/2000 [01:33<01:15, 11.87it/s]"
     ]
    },
    {
     "name": "stdout",
     "output_type": "stream",
     "text": [
      "Optimization iteration: 1100 Loss: 0.8842493295669556\n"
     ]
    },
    {
     "name": "stderr",
     "output_type": "stream",
     "text": [
      " 60%|██████    | 1202/2000 [01:41<01:07, 11.86it/s]"
     ]
    },
    {
     "name": "stdout",
     "output_type": "stream",
     "text": [
      "Optimization iteration: 1200 Loss: 2.015237331390381\n"
     ]
    },
    {
     "name": "stderr",
     "output_type": "stream",
     "text": [
      " 65%|██████▌   | 1302/2000 [01:49<00:58, 11.96it/s]"
     ]
    },
    {
     "name": "stdout",
     "output_type": "stream",
     "text": [
      "Optimization iteration: 1300 Loss: 1.2759430408477783\n"
     ]
    },
    {
     "name": "stderr",
     "output_type": "stream",
     "text": [
      " 70%|███████   | 1402/2000 [01:58<00:50, 11.84it/s]"
     ]
    },
    {
     "name": "stdout",
     "output_type": "stream",
     "text": [
      "Optimization iteration: 1400 Loss: 1.3751550912857056\n"
     ]
    },
    {
     "name": "stderr",
     "output_type": "stream",
     "text": [
      " 75%|███████▌  | 1502/2000 [02:06<00:41, 12.05it/s]"
     ]
    },
    {
     "name": "stdout",
     "output_type": "stream",
     "text": [
      "Optimization iteration: 1500 Loss: 1.3700095415115356\n"
     ]
    },
    {
     "name": "stderr",
     "output_type": "stream",
     "text": [
      " 80%|████████  | 1602/2000 [02:15<00:34, 11.49it/s]"
     ]
    },
    {
     "name": "stdout",
     "output_type": "stream",
     "text": [
      "Optimization iteration: 1600 Loss: 3.8098201751708984\n"
     ]
    },
    {
     "name": "stderr",
     "output_type": "stream",
     "text": [
      " 85%|████████▌ | 1702/2000 [02:23<00:24, 11.97it/s]"
     ]
    },
    {
     "name": "stdout",
     "output_type": "stream",
     "text": [
      "Optimization iteration: 1700 Loss: 1.1441401243209839\n"
     ]
    },
    {
     "name": "stderr",
     "output_type": "stream",
     "text": [
      " 90%|█████████ | 1802/2000 [02:32<00:16, 11.96it/s]"
     ]
    },
    {
     "name": "stdout",
     "output_type": "stream",
     "text": [
      "Optimization iteration: 1800 Loss: 2.168569564819336\n"
     ]
    },
    {
     "name": "stderr",
     "output_type": "stream",
     "text": [
      " 95%|█████████▌| 1902/2000 [02:40<00:08, 11.88it/s]"
     ]
    },
    {
     "name": "stdout",
     "output_type": "stream",
     "text": [
      "Optimization iteration: 1900 Loss: 0.8546738624572754\n"
     ]
    },
    {
     "name": "stderr",
     "output_type": "stream",
     "text": [
      "100%|██████████| 2000/2000 [02:49<00:00, 11.82it/s]"
     ]
    },
    {
     "name": "stdout",
     "output_type": "stream",
     "text": [
      "Optimization iteration: 2000 Loss: 0.588313102722168\n"
     ]
    },
    {
     "name": "stderr",
     "output_type": "stream",
     "text": [
      "\n"
     ]
    }
   ],
   "source": [
    "def create_bdt_model(state, obs, num_obs, full_obs):\n",
    "    # latent process\n",
    "    _state = state.copy()\n",
    "    _state[\"rinit\"] = rinit\n",
    "\n",
    "    # observation model\n",
    "    _obs = obs.copy()\n",
    "    _obs[\"num_obs\"] = num_obs\n",
    "    def generate_observations(N):\n",
    "        X = rinit(N)  # (N, d)\n",
    "        Y = torch.zeros(N, num_obs, p, device=device)\n",
    "        for t in range(num_obs):\n",
    "            X = X * torch.exp(-beta * interval) + torch.sqrt(\n",
    "                (1.0 - torch.exp(-2.0 * beta * interval)) / (2.0 * beta)\n",
    "            ) * torch.randn(1, d, device=device)\n",
    "            Y[:, t, :] = X + std_obs * torch.randn(1, p, device=device)\n",
    "        return Y\n",
    "    _obs[\"robs\"] = generate_observations\n",
    "\n",
    "    # V and Z neural network configuration\n",
    "    V_net_config = {\"layers\": [16], \"standardization\": standardization, \"full_obs\": full_obs}\n",
    "    Z_net_config = {\"layers\": [16], \"standardization\": standardization, \"full_obs\": full_obs}\n",
    "    net_config = {\"V\": V_net_config, \"Z\": Z_net_config}\n",
    "\n",
    "    return bdt.core.model(_state, _obs, M, net_config, device=device)\n",
    "\n",
    "# create model instance\n",
    "tuning_configs = {\n",
    "    \"model2\": {\"num_obs\": 2, \"full_obs\": False},\n",
    "    \"model2full\": {\"num_obs\": 2, \"full_obs\": True},\n",
    "    \"model4\": {\"num_obs\": 4, \"full_obs\": False},\n",
    "    \"model4full\": {\"num_obs\": 4, \"full_obs\": True},\n",
    "}\n",
    "bdt_models = {}\n",
    "for name, cfg in tuning_configs.items():\n",
    "    bdt_models[name] = create_bdt_model(state, obs, num_obs=cfg[\"num_obs\"], full_obs=cfg[\"full_obs\"])\n",
    "\n",
    "# train models\n",
    "bdt_optim = {\n",
    "    \"minibatch\": 100,\n",
    "    \"num_iterations\": 2000,\n",
    "    \"learning_rate\": 1e-2,\n",
    "    \"weight_decay\": 1e-2,\n",
    "    \"initial_required\": True,\n",
    "}\n",
    "for name, model in bdt_models.items():\n",
    "    print(\"Training model:\", name)\n",
    "    model.train(bdt_optim)"
   ]
  },
  {
   "cell_type": "code",
   "execution_count": 116,
   "metadata": {},
   "outputs": [
    {
     "data": {
      "text/plain": [
       "<AxesSubplot:>"
      ]
     },
     "execution_count": 116,
     "metadata": {},
     "output_type": "execute_result"
    },
    {
     "data": {
      "image/png": "[encoded data removed]",
      "text/plain": [
       "<Figure size 432x288 with 1 Axes>"
      ]
     },
     "metadata": {},
     "output_type": "display_data"
    }
   ],
   "source": [
    "pd.DataFrame(\n",
    "    {name: model.loss.tolist() for name, model in bdt_models.items()}\n",
    ").plot()"
   ]
  },
  {
   "cell_type": "markdown",
   "metadata": {},
   "source": [
    "# Simulate states and observations"
   ]
  },
  {
   "cell_type": "code",
   "execution_count": 117,
   "metadata": {},
   "outputs": [],
   "source": [
    "T_obs = 100\n",
    "multiplier = 1.0"
   ]
  },
  {
   "cell_type": "code",
   "execution_count": 118,
   "metadata": {},
   "outputs": [
    {
     "data": {
      "image/png": "[encoded data removed]",
      "text/plain": [
       "<Figure size 432x288 with 1 Axes>"
      ]
     },
     "metadata": {},
     "output_type": "display_data"
    }
   ],
   "source": [
    "# simulate states and observations\n",
    "X = torch.zeros(T_obs + 1, d, device=device)\n",
    "Y = torch.zeros(T_obs, p, device=device)\n",
    "X0 = rinit(1)\n",
    "X[0, :] = X0\n",
    "for t in range(T_obs):\n",
    "    X[t + 1, :] = X[t, :] * torch.exp(-beta * interval) + torch.sqrt(\n",
    "        (1.0 - torch.exp(-2.0 * beta * interval)) / (2.0 * beta)\n",
    "    ) * torch.randn(1, d, device=device)\n",
    "    Y[t, :] = X[t + 1, :] + multiplier * std_obs * torch.randn(1, p, device=device)\n",
    "\n",
    "# plot states and observations\n",
    "plt.figure()\n",
    "plt.plot(torch.arange(T_obs + 1), X[:, 0].cpu(), \"r-x\")\n",
    "plt.plot(torch.arange(1, T_obs + 1), Y[:, 0].cpu(), \"bx\")\n",
    "plt.xlabel(\"step\", fontsize=15)\n",
    "plt.legend([\"state\", \"observation\"], fontsize=15)\n",
    "plt.show()"
   ]
  },
  {
   "cell_type": "markdown",
   "metadata": {},
   "source": [
    "# Run particle filters "
   ]
  },
  {
   "cell_type": "code",
   "execution_count": 119,
   "metadata": {},
   "outputs": [],
   "source": [
    "N = 2**6\n",
    "R = 100\n",
    "algorithms = [\"APF\", \"BPF\"]\n",
    "algorithms += [\"BlockPF-\" + i.replace(\"model\", \"\") for i in bdt_models.keys()]"
   ]
  },
  {
   "cell_type": "code",
   "execution_count": 120,
   "metadata": {},
   "outputs": [
    {
     "data": {
      "text/plain": [
       "['APF', 'BPF', 'BlockPF-2', 'BlockPF-2full', 'BlockPF-4', 'BlockPF-4full']"
      ]
     },
     "execution_count": 120,
     "metadata": {},
     "output_type": "execute_result"
    }
   ],
   "source": [
    "algorithms"
   ]
  },
  {
   "cell_type": "code",
   "execution_count": 121,
   "metadata": {},
   "outputs": [
    {
     "name": "stderr",
     "output_type": "stream",
     "text": [
      "100%|██████████| 100/100 [20:57<00:00, 12.58s/it]\n"
     ]
    }
   ],
   "source": [
    "ess = {i: [] for i in algorithms}\n",
    "log_estimate = {i: [] for i in algorithms}\n",
    "\n",
    "for r in tqdm(range(R)):\n",
    "    # run auxiliary particle filter\n",
    "    APF_output = cdt_model.run_APF(X0.repeat((N, 1)), Y, N)\n",
    "    ess[\"APF\"].append(float(torch.mean(APF_output[\"ess\"] * 100 / N)))\n",
    "    log_estimate[\"APF\"].append(float(APF_output[\"log_norm_const\"][-1]))\n",
    "\n",
    "    # run bootstrap particle filter\n",
    "    BPF_output = cdt_model.run_BPF(X0.repeat((N, 1)), Y, N)\n",
    "    ess[\"BPF\"].append(float(torch.mean(BPF_output[\"ess\"] * 100 / N)))\n",
    "    log_estimate[\"BPF\"].append(float(BPF_output[\"log_norm_const\"][-1]))\n",
    "\n",
    "    # run block particle filters\n",
    "    for name, model in bdt_models.items():\n",
    "        BlockPF_output = simulate_block_SMC(model, X0, Y, N)\n",
    "        pf_name = \"BlockPF-\" + name.replace(\"model\", \"\")\n",
    "        ess[pf_name].append(float(torch.mean(BlockPF_output[\"ess\"] * 100 / N)))\n",
    "        log_estimate[pf_name].append(float(BlockPF_output[\"log_norm_const\"][-1]))"
   ]
  },
  {
   "cell_type": "code",
   "execution_count": 122,
   "metadata": {},
   "outputs": [
    {
     "data": {
      "text/plain": [
       "<AxesSubplot:>"
      ]
     },
     "execution_count": 122,
     "metadata": {},
     "output_type": "execute_result"
    },
    {
     "data": {
      "image/png": "[encoded data removed]",
      "text/plain": [
       "<Figure size 432x288 with 1 Axes>"
      ]
     },
     "metadata": {},
     "output_type": "display_data"
    }
   ],
   "source": [
    "pd.DataFrame(ess).boxplot()"
   ]
  },
  {
   "cell_type": "code",
   "execution_count": 123,
   "metadata": {},
   "outputs": [
    {
     "data": {
      "text/plain": [
       "<AxesSubplot:>"
      ]
     },
     "execution_count": 123,
     "metadata": {},
     "output_type": "execute_result"
    },
    {
     "data": {
      "image/png": "[encoded data removed]",
      "text/plain": [
       "<Figure size 432x288 with 1 Axes>"
      ]
     },
     "metadata": {},
     "output_type": "display_data"
    }
   ],
   "source": [
    "pd.DataFrame(log_estimate).boxplot()"
   ]
  },
  {
   "cell_type": "code",
   "execution_count": null,
   "metadata": {},
   "outputs": [],
   "source": []
  }
 ],
 "metadata": {
  "kernelspec": {
   "display_name": "standard",
   "language": "python",
   "name": "python3"
  },
  "language_info": {
   "codemirror_mode": {
    "name": "ipython",
    "version": 3
   },
   "file_extension": ".py",
   "mimetype": "text/x-python",
   "name": "python",
   "nbconvert_exporter": "python",
   "pygments_lexer": "ipython3",
   "version": "3.9.7"
  }
 },
 "nbformat": 4,
 "nbformat_minor": 2
}
